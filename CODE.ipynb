{
  "nbformat": 4,
  "nbformat_minor": 0,
  "metadata": {
    "colab": {
      "name": "CODE",
      "provenance": [],
      "include_colab_link": true
    },
    "kernelspec": {
      "display_name": "Python 3",
      "name": "python3"
    },
    "language_info": {
      "name": "python"
    },
    "widgets": {
      "application/vnd.jupyter.widget-state+json": {
        "c7a5dc4634544e309f06df1513d1e978": {
          "model_module": "@jupyter-widgets/controls",
          "model_name": "HBoxModel",
          "model_module_version": "1.5.0",
          "state": {
            "_view_name": "HBoxView",
            "_dom_classes": [],
            "_model_name": "HBoxModel",
            "_view_module": "@jupyter-widgets/controls",
            "_model_module_version": "1.5.0",
            "_view_count": null,
            "_view_module_version": "1.5.0",
            "box_style": "",
            "layout": "IPY_MODEL_996732783ee04c78a87195e8900f8d73",
            "_model_module": "@jupyter-widgets/controls",
            "children": [
              "IPY_MODEL_9467d62381bc49a7b9bf746023d956a9",
              "IPY_MODEL_05cd1baa04714591ab46e3de42724fa0"
            ]
          }
        },
        "996732783ee04c78a87195e8900f8d73": {
          "model_module": "@jupyter-widgets/base",
          "model_name": "LayoutModel",
          "model_module_version": "1.2.0",
          "state": {
            "_view_name": "LayoutView",
            "grid_template_rows": null,
            "right": null,
            "justify_content": null,
            "_view_module": "@jupyter-widgets/base",
            "overflow": null,
            "_model_module_version": "1.2.0",
            "_view_count": null,
            "flex_flow": null,
            "width": null,
            "min_width": null,
            "border": null,
            "align_items": null,
            "bottom": null,
            "_model_module": "@jupyter-widgets/base",
            "top": null,
            "grid_column": null,
            "overflow_y": null,
            "overflow_x": null,
            "grid_auto_flow": null,
            "grid_area": null,
            "grid_template_columns": null,
            "flex": null,
            "_model_name": "LayoutModel",
            "justify_items": null,
            "grid_row": null,
            "max_height": null,
            "align_content": null,
            "visibility": null,
            "align_self": null,
            "height": null,
            "min_height": null,
            "padding": null,
            "grid_auto_rows": null,
            "grid_gap": null,
            "max_width": null,
            "order": null,
            "_view_module_version": "1.2.0",
            "grid_template_areas": null,
            "object_position": null,
            "object_fit": null,
            "grid_auto_columns": null,
            "margin": null,
            "display": null,
            "left": null
          }
        },
        "9467d62381bc49a7b9bf746023d956a9": {
          "model_module": "@jupyter-widgets/controls",
          "model_name": "FloatProgressModel",
          "model_module_version": "1.5.0",
          "state": {
            "_view_name": "ProgressView",
            "style": "IPY_MODEL_f9f9bd8128d54617b4a01cafeffdfca3",
            "_dom_classes": [],
            "description": "Downloading: 100%",
            "_model_name": "FloatProgressModel",
            "bar_style": "success",
            "max": 1802,
            "_view_module": "@jupyter-widgets/controls",
            "_model_module_version": "1.5.0",
            "value": 1802,
            "_view_count": null,
            "_view_module_version": "1.5.0",
            "orientation": "horizontal",
            "min": 0,
            "description_tooltip": null,
            "_model_module": "@jupyter-widgets/controls",
            "layout": "IPY_MODEL_78c7a53577cb41daae658b8cdc41b5f3"
          }
        },
        "05cd1baa04714591ab46e3de42724fa0": {
          "model_module": "@jupyter-widgets/controls",
          "model_name": "HTMLModel",
          "model_module_version": "1.5.0",
          "state": {
            "_view_name": "HTMLView",
            "style": "IPY_MODEL_25991d1d5c8742e9bf74b35108c2cf84",
            "_dom_classes": [],
            "description": "",
            "_model_name": "HTMLModel",
            "placeholder": "​",
            "_view_module": "@jupyter-widgets/controls",
            "_model_module_version": "1.5.0",
            "value": " 1.80k/1.80k [00:00&lt;00:00, 4.01kB/s]",
            "_view_count": null,
            "_view_module_version": "1.5.0",
            "description_tooltip": null,
            "_model_module": "@jupyter-widgets/controls",
            "layout": "IPY_MODEL_f1d079e03a934beb8296f61d09b4595d"
          }
        },
        "f9f9bd8128d54617b4a01cafeffdfca3": {
          "model_module": "@jupyter-widgets/controls",
          "model_name": "ProgressStyleModel",
          "model_module_version": "1.5.0",
          "state": {
            "_view_name": "StyleView",
            "_model_name": "ProgressStyleModel",
            "description_width": "initial",
            "_view_module": "@jupyter-widgets/base",
            "_model_module_version": "1.5.0",
            "_view_count": null,
            "_view_module_version": "1.2.0",
            "bar_color": null,
            "_model_module": "@jupyter-widgets/controls"
          }
        },
        "78c7a53577cb41daae658b8cdc41b5f3": {
          "model_module": "@jupyter-widgets/base",
          "model_name": "LayoutModel",
          "model_module_version": "1.2.0",
          "state": {
            "_view_name": "LayoutView",
            "grid_template_rows": null,
            "right": null,
            "justify_content": null,
            "_view_module": "@jupyter-widgets/base",
            "overflow": null,
            "_model_module_version": "1.2.0",
            "_view_count": null,
            "flex_flow": null,
            "width": null,
            "min_width": null,
            "border": null,
            "align_items": null,
            "bottom": null,
            "_model_module": "@jupyter-widgets/base",
            "top": null,
            "grid_column": null,
            "overflow_y": null,
            "overflow_x": null,
            "grid_auto_flow": null,
            "grid_area": null,
            "grid_template_columns": null,
            "flex": null,
            "_model_name": "LayoutModel",
            "justify_items": null,
            "grid_row": null,
            "max_height": null,
            "align_content": null,
            "visibility": null,
            "align_self": null,
            "height": null,
            "min_height": null,
            "padding": null,
            "grid_auto_rows": null,
            "grid_gap": null,
            "max_width": null,
            "order": null,
            "_view_module_version": "1.2.0",
            "grid_template_areas": null,
            "object_position": null,
            "object_fit": null,
            "grid_auto_columns": null,
            "margin": null,
            "display": null,
            "left": null
          }
        },
        "25991d1d5c8742e9bf74b35108c2cf84": {
          "model_module": "@jupyter-widgets/controls",
          "model_name": "DescriptionStyleModel",
          "model_module_version": "1.5.0",
          "state": {
            "_view_name": "StyleView",
            "_model_name": "DescriptionStyleModel",
            "description_width": "",
            "_view_module": "@jupyter-widgets/base",
            "_model_module_version": "1.5.0",
            "_view_count": null,
            "_view_module_version": "1.2.0",
            "_model_module": "@jupyter-widgets/controls"
          }
        },
        "f1d079e03a934beb8296f61d09b4595d": {
          "model_module": "@jupyter-widgets/base",
          "model_name": "LayoutModel",
          "model_module_version": "1.2.0",
          "state": {
            "_view_name": "LayoutView",
            "grid_template_rows": null,
            "right": null,
            "justify_content": null,
            "_view_module": "@jupyter-widgets/base",
            "overflow": null,
            "_model_module_version": "1.2.0",
            "_view_count": null,
            "flex_flow": null,
            "width": null,
            "min_width": null,
            "border": null,
            "align_items": null,
            "bottom": null,
            "_model_module": "@jupyter-widgets/base",
            "top": null,
            "grid_column": null,
            "overflow_y": null,
            "overflow_x": null,
            "grid_auto_flow": null,
            "grid_area": null,
            "grid_template_columns": null,
            "flex": null,
            "_model_name": "LayoutModel",
            "justify_items": null,
            "grid_row": null,
            "max_height": null,
            "align_content": null,
            "visibility": null,
            "align_self": null,
            "height": null,
            "min_height": null,
            "padding": null,
            "grid_auto_rows": null,
            "grid_gap": null,
            "max_width": null,
            "order": null,
            "_view_module_version": "1.2.0",
            "grid_template_areas": null,
            "object_position": null,
            "object_fit": null,
            "grid_auto_columns": null,
            "margin": null,
            "display": null,
            "left": null
          }
        },
        "c4f46cedebf94a3aa50447c3cec05bda": {
          "model_module": "@jupyter-widgets/controls",
          "model_name": "HBoxModel",
          "model_module_version": "1.5.0",
          "state": {
            "_view_name": "HBoxView",
            "_dom_classes": [],
            "_model_name": "HBoxModel",
            "_view_module": "@jupyter-widgets/controls",
            "_model_module_version": "1.5.0",
            "_view_count": null,
            "_view_module_version": "1.5.0",
            "box_style": "",
            "layout": "IPY_MODEL_da589b77bbde44e4991b03c6b2888c9b",
            "_model_module": "@jupyter-widgets/controls",
            "children": [
              "IPY_MODEL_3e2d00d82e3d469d84d67d48655dd5ef",
              "IPY_MODEL_87223211e4d545b18a1500fa4d2d00d0"
            ]
          }
        },
        "da589b77bbde44e4991b03c6b2888c9b": {
          "model_module": "@jupyter-widgets/base",
          "model_name": "LayoutModel",
          "model_module_version": "1.2.0",
          "state": {
            "_view_name": "LayoutView",
            "grid_template_rows": null,
            "right": null,
            "justify_content": null,
            "_view_module": "@jupyter-widgets/base",
            "overflow": null,
            "_model_module_version": "1.2.0",
            "_view_count": null,
            "flex_flow": null,
            "width": null,
            "min_width": null,
            "border": null,
            "align_items": null,
            "bottom": null,
            "_model_module": "@jupyter-widgets/base",
            "top": null,
            "grid_column": null,
            "overflow_y": null,
            "overflow_x": null,
            "grid_auto_flow": null,
            "grid_area": null,
            "grid_template_columns": null,
            "flex": null,
            "_model_name": "LayoutModel",
            "justify_items": null,
            "grid_row": null,
            "max_height": null,
            "align_content": null,
            "visibility": null,
            "align_self": null,
            "height": null,
            "min_height": null,
            "padding": null,
            "grid_auto_rows": null,
            "grid_gap": null,
            "max_width": null,
            "order": null,
            "_view_module_version": "1.2.0",
            "grid_template_areas": null,
            "object_position": null,
            "object_fit": null,
            "grid_auto_columns": null,
            "margin": null,
            "display": null,
            "left": null
          }
        },
        "3e2d00d82e3d469d84d67d48655dd5ef": {
          "model_module": "@jupyter-widgets/controls",
          "model_name": "FloatProgressModel",
          "model_module_version": "1.5.0",
          "state": {
            "_view_name": "ProgressView",
            "style": "IPY_MODEL_4ac6a589812a4c3d9f406449090de6e8",
            "_dom_classes": [],
            "description": "Downloading: 100%",
            "_model_name": "FloatProgressModel",
            "bar_style": "success",
            "max": 1222317369,
            "_view_module": "@jupyter-widgets/controls",
            "_model_module_version": "1.5.0",
            "value": 1222317369,
            "_view_count": null,
            "_view_module_version": "1.5.0",
            "orientation": "horizontal",
            "min": 0,
            "description_tooltip": null,
            "_model_module": "@jupyter-widgets/controls",
            "layout": "IPY_MODEL_cc18e8697776466f80f32e8b165c34cd"
          }
        },
        "87223211e4d545b18a1500fa4d2d00d0": {
          "model_module": "@jupyter-widgets/controls",
          "model_name": "HTMLModel",
          "model_module_version": "1.5.0",
          "state": {
            "_view_name": "HTMLView",
            "style": "IPY_MODEL_9751d86ea97e4ca98a4bdf7d7dbe7a44",
            "_dom_classes": [],
            "description": "",
            "_model_name": "HTMLModel",
            "placeholder": "​",
            "_view_module": "@jupyter-widgets/controls",
            "_model_module_version": "1.5.0",
            "value": " 1.22G/1.22G [00:31&lt;00:00, 38.5MB/s]",
            "_view_count": null,
            "_view_module_version": "1.5.0",
            "description_tooltip": null,
            "_model_module": "@jupyter-widgets/controls",
            "layout": "IPY_MODEL_b7c1b8f59be84b2a85204d2d4b16397d"
          }
        },
        "4ac6a589812a4c3d9f406449090de6e8": {
          "model_module": "@jupyter-widgets/controls",
          "model_name": "ProgressStyleModel",
          "model_module_version": "1.5.0",
          "state": {
            "_view_name": "StyleView",
            "_model_name": "ProgressStyleModel",
            "description_width": "initial",
            "_view_module": "@jupyter-widgets/base",
            "_model_module_version": "1.5.0",
            "_view_count": null,
            "_view_module_version": "1.2.0",
            "bar_color": null,
            "_model_module": "@jupyter-widgets/controls"
          }
        },
        "cc18e8697776466f80f32e8b165c34cd": {
          "model_module": "@jupyter-widgets/base",
          "model_name": "LayoutModel",
          "model_module_version": "1.2.0",
          "state": {
            "_view_name": "LayoutView",
            "grid_template_rows": null,
            "right": null,
            "justify_content": null,
            "_view_module": "@jupyter-widgets/base",
            "overflow": null,
            "_model_module_version": "1.2.0",
            "_view_count": null,
            "flex_flow": null,
            "width": null,
            "min_width": null,
            "border": null,
            "align_items": null,
            "bottom": null,
            "_model_module": "@jupyter-widgets/base",
            "top": null,
            "grid_column": null,
            "overflow_y": null,
            "overflow_x": null,
            "grid_auto_flow": null,
            "grid_area": null,
            "grid_template_columns": null,
            "flex": null,
            "_model_name": "LayoutModel",
            "justify_items": null,
            "grid_row": null,
            "max_height": null,
            "align_content": null,
            "visibility": null,
            "align_self": null,
            "height": null,
            "min_height": null,
            "padding": null,
            "grid_auto_rows": null,
            "grid_gap": null,
            "max_width": null,
            "order": null,
            "_view_module_version": "1.2.0",
            "grid_template_areas": null,
            "object_position": null,
            "object_fit": null,
            "grid_auto_columns": null,
            "margin": null,
            "display": null,
            "left": null
          }
        },
        "9751d86ea97e4ca98a4bdf7d7dbe7a44": {
          "model_module": "@jupyter-widgets/controls",
          "model_name": "DescriptionStyleModel",
          "model_module_version": "1.5.0",
          "state": {
            "_view_name": "StyleView",
            "_model_name": "DescriptionStyleModel",
            "description_width": "",
            "_view_module": "@jupyter-widgets/base",
            "_model_module_version": "1.5.0",
            "_view_count": null,
            "_view_module_version": "1.2.0",
            "_model_module": "@jupyter-widgets/controls"
          }
        },
        "b7c1b8f59be84b2a85204d2d4b16397d": {
          "model_module": "@jupyter-widgets/base",
          "model_name": "LayoutModel",
          "model_module_version": "1.2.0",
          "state": {
            "_view_name": "LayoutView",
            "grid_template_rows": null,
            "right": null,
            "justify_content": null,
            "_view_module": "@jupyter-widgets/base",
            "overflow": null,
            "_model_module_version": "1.2.0",
            "_view_count": null,
            "flex_flow": null,
            "width": null,
            "min_width": null,
            "border": null,
            "align_items": null,
            "bottom": null,
            "_model_module": "@jupyter-widgets/base",
            "top": null,
            "grid_column": null,
            "overflow_y": null,
            "overflow_x": null,
            "grid_auto_flow": null,
            "grid_area": null,
            "grid_template_columns": null,
            "flex": null,
            "_model_name": "LayoutModel",
            "justify_items": null,
            "grid_row": null,
            "max_height": null,
            "align_content": null,
            "visibility": null,
            "align_self": null,
            "height": null,
            "min_height": null,
            "padding": null,
            "grid_auto_rows": null,
            "grid_gap": null,
            "max_width": null,
            "order": null,
            "_view_module_version": "1.2.0",
            "grid_template_areas": null,
            "object_position": null,
            "object_fit": null,
            "grid_auto_columns": null,
            "margin": null,
            "display": null,
            "left": null
          }
        },
        "1d7e39bb65e44156b4f55764af445e30": {
          "model_module": "@jupyter-widgets/controls",
          "model_name": "HBoxModel",
          "model_module_version": "1.5.0",
          "state": {
            "_view_name": "HBoxView",
            "_dom_classes": [],
            "_model_name": "HBoxModel",
            "_view_module": "@jupyter-widgets/controls",
            "_model_module_version": "1.5.0",
            "_view_count": null,
            "_view_module_version": "1.5.0",
            "box_style": "",
            "layout": "IPY_MODEL_ba323c1d6ff74c5eb6fcd4456e08c18e",
            "_model_module": "@jupyter-widgets/controls",
            "children": [
              "IPY_MODEL_67908b1284c747abbbafa516aa6524a6",
              "IPY_MODEL_bfc5b1d7d5a04aedb9e731357a1d9d2f"
            ]
          }
        },
        "ba323c1d6ff74c5eb6fcd4456e08c18e": {
          "model_module": "@jupyter-widgets/base",
          "model_name": "LayoutModel",
          "model_module_version": "1.2.0",
          "state": {
            "_view_name": "LayoutView",
            "grid_template_rows": null,
            "right": null,
            "justify_content": null,
            "_view_module": "@jupyter-widgets/base",
            "overflow": null,
            "_model_module_version": "1.2.0",
            "_view_count": null,
            "flex_flow": null,
            "width": null,
            "min_width": null,
            "border": null,
            "align_items": null,
            "bottom": null,
            "_model_module": "@jupyter-widgets/base",
            "top": null,
            "grid_column": null,
            "overflow_y": null,
            "overflow_x": null,
            "grid_auto_flow": null,
            "grid_area": null,
            "grid_template_columns": null,
            "flex": null,
            "_model_name": "LayoutModel",
            "justify_items": null,
            "grid_row": null,
            "max_height": null,
            "align_content": null,
            "visibility": null,
            "align_self": null,
            "height": null,
            "min_height": null,
            "padding": null,
            "grid_auto_rows": null,
            "grid_gap": null,
            "max_width": null,
            "order": null,
            "_view_module_version": "1.2.0",
            "grid_template_areas": null,
            "object_position": null,
            "object_fit": null,
            "grid_auto_columns": null,
            "margin": null,
            "display": null,
            "left": null
          }
        },
        "67908b1284c747abbbafa516aa6524a6": {
          "model_module": "@jupyter-widgets/controls",
          "model_name": "FloatProgressModel",
          "model_module_version": "1.5.0",
          "state": {
            "_view_name": "ProgressView",
            "style": "IPY_MODEL_5a65229859714d0eb28e07e25565c87e",
            "_dom_classes": [],
            "description": "Downloading: 100%",
            "_model_name": "FloatProgressModel",
            "bar_style": "success",
            "max": 898822,
            "_view_module": "@jupyter-widgets/controls",
            "_model_module_version": "1.5.0",
            "value": 898822,
            "_view_count": null,
            "_view_module_version": "1.5.0",
            "orientation": "horizontal",
            "min": 0,
            "description_tooltip": null,
            "_model_module": "@jupyter-widgets/controls",
            "layout": "IPY_MODEL_13446800d9ca4f579ea4f5439c55eee3"
          }
        },
        "bfc5b1d7d5a04aedb9e731357a1d9d2f": {
          "model_module": "@jupyter-widgets/controls",
          "model_name": "HTMLModel",
          "model_module_version": "1.5.0",
          "state": {
            "_view_name": "HTMLView",
            "style": "IPY_MODEL_97c1600a59bb4a78a1fa343adf506b2f",
            "_dom_classes": [],
            "description": "",
            "_model_name": "HTMLModel",
            "placeholder": "​",
            "_view_module": "@jupyter-widgets/controls",
            "_model_module_version": "1.5.0",
            "value": " 899k/899k [00:00&lt;00:00, 2.05MB/s]",
            "_view_count": null,
            "_view_module_version": "1.5.0",
            "description_tooltip": null,
            "_model_module": "@jupyter-widgets/controls",
            "layout": "IPY_MODEL_15b85c90d7fd451ca6a802ddbc54d93f"
          }
        },
        "5a65229859714d0eb28e07e25565c87e": {
          "model_module": "@jupyter-widgets/controls",
          "model_name": "ProgressStyleModel",
          "model_module_version": "1.5.0",
          "state": {
            "_view_name": "StyleView",
            "_model_name": "ProgressStyleModel",
            "description_width": "initial",
            "_view_module": "@jupyter-widgets/base",
            "_model_module_version": "1.5.0",
            "_view_count": null,
            "_view_module_version": "1.2.0",
            "bar_color": null,
            "_model_module": "@jupyter-widgets/controls"
          }
        },
        "13446800d9ca4f579ea4f5439c55eee3": {
          "model_module": "@jupyter-widgets/base",
          "model_name": "LayoutModel",
          "model_module_version": "1.2.0",
          "state": {
            "_view_name": "LayoutView",
            "grid_template_rows": null,
            "right": null,
            "justify_content": null,
            "_view_module": "@jupyter-widgets/base",
            "overflow": null,
            "_model_module_version": "1.2.0",
            "_view_count": null,
            "flex_flow": null,
            "width": null,
            "min_width": null,
            "border": null,
            "align_items": null,
            "bottom": null,
            "_model_module": "@jupyter-widgets/base",
            "top": null,
            "grid_column": null,
            "overflow_y": null,
            "overflow_x": null,
            "grid_auto_flow": null,
            "grid_area": null,
            "grid_template_columns": null,
            "flex": null,
            "_model_name": "LayoutModel",
            "justify_items": null,
            "grid_row": null,
            "max_height": null,
            "align_content": null,
            "visibility": null,
            "align_self": null,
            "height": null,
            "min_height": null,
            "padding": null,
            "grid_auto_rows": null,
            "grid_gap": null,
            "max_width": null,
            "order": null,
            "_view_module_version": "1.2.0",
            "grid_template_areas": null,
            "object_position": null,
            "object_fit": null,
            "grid_auto_columns": null,
            "margin": null,
            "display": null,
            "left": null
          }
        },
        "97c1600a59bb4a78a1fa343adf506b2f": {
          "model_module": "@jupyter-widgets/controls",
          "model_name": "DescriptionStyleModel",
          "model_module_version": "1.5.0",
          "state": {
            "_view_name": "StyleView",
            "_model_name": "DescriptionStyleModel",
            "description_width": "",
            "_view_module": "@jupyter-widgets/base",
            "_model_module_version": "1.5.0",
            "_view_count": null,
            "_view_module_version": "1.2.0",
            "_model_module": "@jupyter-widgets/controls"
          }
        },
        "15b85c90d7fd451ca6a802ddbc54d93f": {
          "model_module": "@jupyter-widgets/base",
          "model_name": "LayoutModel",
          "model_module_version": "1.2.0",
          "state": {
            "_view_name": "LayoutView",
            "grid_template_rows": null,
            "right": null,
            "justify_content": null,
            "_view_module": "@jupyter-widgets/base",
            "overflow": null,
            "_model_module_version": "1.2.0",
            "_view_count": null,
            "flex_flow": null,
            "width": null,
            "min_width": null,
            "border": null,
            "align_items": null,
            "bottom": null,
            "_model_module": "@jupyter-widgets/base",
            "top": null,
            "grid_column": null,
            "overflow_y": null,
            "overflow_x": null,
            "grid_auto_flow": null,
            "grid_area": null,
            "grid_template_columns": null,
            "flex": null,
            "_model_name": "LayoutModel",
            "justify_items": null,
            "grid_row": null,
            "max_height": null,
            "align_content": null,
            "visibility": null,
            "align_self": null,
            "height": null,
            "min_height": null,
            "padding": null,
            "grid_auto_rows": null,
            "grid_gap": null,
            "max_width": null,
            "order": null,
            "_view_module_version": "1.2.0",
            "grid_template_areas": null,
            "object_position": null,
            "object_fit": null,
            "grid_auto_columns": null,
            "margin": null,
            "display": null,
            "left": null
          }
        },
        "374098519edf49aeafffacf7218b1538": {
          "model_module": "@jupyter-widgets/controls",
          "model_name": "HBoxModel",
          "model_module_version": "1.5.0",
          "state": {
            "_view_name": "HBoxView",
            "_dom_classes": [],
            "_model_name": "HBoxModel",
            "_view_module": "@jupyter-widgets/controls",
            "_model_module_version": "1.5.0",
            "_view_count": null,
            "_view_module_version": "1.5.0",
            "box_style": "",
            "layout": "IPY_MODEL_10bf57cdf4444461b1587c07bb155b1c",
            "_model_module": "@jupyter-widgets/controls",
            "children": [
              "IPY_MODEL_ac96a070e11d46d4bef691f58d07c6e2",
              "IPY_MODEL_02059c8d57ac4379bff644be1c5a5b1f"
            ]
          }
        },
        "10bf57cdf4444461b1587c07bb155b1c": {
          "model_module": "@jupyter-widgets/base",
          "model_name": "LayoutModel",
          "model_module_version": "1.2.0",
          "state": {
            "_view_name": "LayoutView",
            "grid_template_rows": null,
            "right": null,
            "justify_content": null,
            "_view_module": "@jupyter-widgets/base",
            "overflow": null,
            "_model_module_version": "1.2.0",
            "_view_count": null,
            "flex_flow": null,
            "width": null,
            "min_width": null,
            "border": null,
            "align_items": null,
            "bottom": null,
            "_model_module": "@jupyter-widgets/base",
            "top": null,
            "grid_column": null,
            "overflow_y": null,
            "overflow_x": null,
            "grid_auto_flow": null,
            "grid_area": null,
            "grid_template_columns": null,
            "flex": null,
            "_model_name": "LayoutModel",
            "justify_items": null,
            "grid_row": null,
            "max_height": null,
            "align_content": null,
            "visibility": null,
            "align_self": null,
            "height": null,
            "min_height": null,
            "padding": null,
            "grid_auto_rows": null,
            "grid_gap": null,
            "max_width": null,
            "order": null,
            "_view_module_version": "1.2.0",
            "grid_template_areas": null,
            "object_position": null,
            "object_fit": null,
            "grid_auto_columns": null,
            "margin": null,
            "display": null,
            "left": null
          }
        },
        "ac96a070e11d46d4bef691f58d07c6e2": {
          "model_module": "@jupyter-widgets/controls",
          "model_name": "FloatProgressModel",
          "model_module_version": "1.5.0",
          "state": {
            "_view_name": "ProgressView",
            "style": "IPY_MODEL_11002166cbdd46a38046af4d418c7429",
            "_dom_classes": [],
            "description": "Downloading: 100%",
            "_model_name": "FloatProgressModel",
            "bar_style": "success",
            "max": 456318,
            "_view_module": "@jupyter-widgets/controls",
            "_model_module_version": "1.5.0",
            "value": 456318,
            "_view_count": null,
            "_view_module_version": "1.5.0",
            "orientation": "horizontal",
            "min": 0,
            "description_tooltip": null,
            "_model_module": "@jupyter-widgets/controls",
            "layout": "IPY_MODEL_625688a954854d17b7f46c11ce2200db"
          }
        },
        "02059c8d57ac4379bff644be1c5a5b1f": {
          "model_module": "@jupyter-widgets/controls",
          "model_name": "HTMLModel",
          "model_module_version": "1.5.0",
          "state": {
            "_view_name": "HTMLView",
            "style": "IPY_MODEL_3202eb6537494e7bab54aa4b44bed35d",
            "_dom_classes": [],
            "description": "",
            "_model_name": "HTMLModel",
            "placeholder": "​",
            "_view_module": "@jupyter-widgets/controls",
            "_model_module_version": "1.5.0",
            "value": " 456k/456k [00:00&lt;00:00, 563kB/s]",
            "_view_count": null,
            "_view_module_version": "1.5.0",
            "description_tooltip": null,
            "_model_module": "@jupyter-widgets/controls",
            "layout": "IPY_MODEL_6523be8aa61d4a73933b95ec27ac3ca6"
          }
        },
        "11002166cbdd46a38046af4d418c7429": {
          "model_module": "@jupyter-widgets/controls",
          "model_name": "ProgressStyleModel",
          "model_module_version": "1.5.0",
          "state": {
            "_view_name": "StyleView",
            "_model_name": "ProgressStyleModel",
            "description_width": "initial",
            "_view_module": "@jupyter-widgets/base",
            "_model_module_version": "1.5.0",
            "_view_count": null,
            "_view_module_version": "1.2.0",
            "bar_color": null,
            "_model_module": "@jupyter-widgets/controls"
          }
        },
        "625688a954854d17b7f46c11ce2200db": {
          "model_module": "@jupyter-widgets/base",
          "model_name": "LayoutModel",
          "model_module_version": "1.2.0",
          "state": {
            "_view_name": "LayoutView",
            "grid_template_rows": null,
            "right": null,
            "justify_content": null,
            "_view_module": "@jupyter-widgets/base",
            "overflow": null,
            "_model_module_version": "1.2.0",
            "_view_count": null,
            "flex_flow": null,
            "width": null,
            "min_width": null,
            "border": null,
            "align_items": null,
            "bottom": null,
            "_model_module": "@jupyter-widgets/base",
            "top": null,
            "grid_column": null,
            "overflow_y": null,
            "overflow_x": null,
            "grid_auto_flow": null,
            "grid_area": null,
            "grid_template_columns": null,
            "flex": null,
            "_model_name": "LayoutModel",
            "justify_items": null,
            "grid_row": null,
            "max_height": null,
            "align_content": null,
            "visibility": null,
            "align_self": null,
            "height": null,
            "min_height": null,
            "padding": null,
            "grid_auto_rows": null,
            "grid_gap": null,
            "max_width": null,
            "order": null,
            "_view_module_version": "1.2.0",
            "grid_template_areas": null,
            "object_position": null,
            "object_fit": null,
            "grid_auto_columns": null,
            "margin": null,
            "display": null,
            "left": null
          }
        },
        "3202eb6537494e7bab54aa4b44bed35d": {
          "model_module": "@jupyter-widgets/controls",
          "model_name": "DescriptionStyleModel",
          "model_module_version": "1.5.0",
          "state": {
            "_view_name": "StyleView",
            "_model_name": "DescriptionStyleModel",
            "description_width": "",
            "_view_module": "@jupyter-widgets/base",
            "_model_module_version": "1.5.0",
            "_view_count": null,
            "_view_module_version": "1.2.0",
            "_model_module": "@jupyter-widgets/controls"
          }
        },
        "6523be8aa61d4a73933b95ec27ac3ca6": {
          "model_module": "@jupyter-widgets/base",
          "model_name": "LayoutModel",
          "model_module_version": "1.2.0",
          "state": {
            "_view_name": "LayoutView",
            "grid_template_rows": null,
            "right": null,
            "justify_content": null,
            "_view_module": "@jupyter-widgets/base",
            "overflow": null,
            "_model_module_version": "1.2.0",
            "_view_count": null,
            "flex_flow": null,
            "width": null,
            "min_width": null,
            "border": null,
            "align_items": null,
            "bottom": null,
            "_model_module": "@jupyter-widgets/base",
            "top": null,
            "grid_column": null,
            "overflow_y": null,
            "overflow_x": null,
            "grid_auto_flow": null,
            "grid_area": null,
            "grid_template_columns": null,
            "flex": null,
            "_model_name": "LayoutModel",
            "justify_items": null,
            "grid_row": null,
            "max_height": null,
            "align_content": null,
            "visibility": null,
            "align_self": null,
            "height": null,
            "min_height": null,
            "padding": null,
            "grid_auto_rows": null,
            "grid_gap": null,
            "max_width": null,
            "order": null,
            "_view_module_version": "1.2.0",
            "grid_template_areas": null,
            "object_position": null,
            "object_fit": null,
            "grid_auto_columns": null,
            "margin": null,
            "display": null,
            "left": null
          }
        },
        "78781cc9f79e475cafb32411a9a303cb": {
          "model_module": "@jupyter-widgets/controls",
          "model_name": "HBoxModel",
          "model_module_version": "1.5.0",
          "state": {
            "_view_name": "HBoxView",
            "_dom_classes": [],
            "_model_name": "HBoxModel",
            "_view_module": "@jupyter-widgets/controls",
            "_model_module_version": "1.5.0",
            "_view_count": null,
            "_view_module_version": "1.5.0",
            "box_style": "",
            "layout": "IPY_MODEL_c179b09233ef41f89beae015442f91de",
            "_model_module": "@jupyter-widgets/controls",
            "children": [
              "IPY_MODEL_32b34bd825d34d25b2bd6b82cd577818",
              "IPY_MODEL_2593be0da5fc44cabedca133845b067d"
            ]
          }
        },
        "c179b09233ef41f89beae015442f91de": {
          "model_module": "@jupyter-widgets/base",
          "model_name": "LayoutModel",
          "model_module_version": "1.2.0",
          "state": {
            "_view_name": "LayoutView",
            "grid_template_rows": null,
            "right": null,
            "justify_content": null,
            "_view_module": "@jupyter-widgets/base",
            "overflow": null,
            "_model_module_version": "1.2.0",
            "_view_count": null,
            "flex_flow": null,
            "width": null,
            "min_width": null,
            "border": null,
            "align_items": null,
            "bottom": null,
            "_model_module": "@jupyter-widgets/base",
            "top": null,
            "grid_column": null,
            "overflow_y": null,
            "overflow_x": null,
            "grid_auto_flow": null,
            "grid_area": null,
            "grid_template_columns": null,
            "flex": null,
            "_model_name": "LayoutModel",
            "justify_items": null,
            "grid_row": null,
            "max_height": null,
            "align_content": null,
            "visibility": null,
            "align_self": null,
            "height": null,
            "min_height": null,
            "padding": null,
            "grid_auto_rows": null,
            "grid_gap": null,
            "max_width": null,
            "order": null,
            "_view_module_version": "1.2.0",
            "grid_template_areas": null,
            "object_position": null,
            "object_fit": null,
            "grid_auto_columns": null,
            "margin": null,
            "display": null,
            "left": null
          }
        },
        "32b34bd825d34d25b2bd6b82cd577818": {
          "model_module": "@jupyter-widgets/controls",
          "model_name": "FloatProgressModel",
          "model_module_version": "1.5.0",
          "state": {
            "_view_name": "ProgressView",
            "style": "IPY_MODEL_db9a915689bc4b2fad9552ff91604e4a",
            "_dom_classes": [],
            "description": "Downloading: 100%",
            "_model_name": "FloatProgressModel",
            "bar_style": "success",
            "max": 26,
            "_view_module": "@jupyter-widgets/controls",
            "_model_module_version": "1.5.0",
            "value": 26,
            "_view_count": null,
            "_view_module_version": "1.5.0",
            "orientation": "horizontal",
            "min": 0,
            "description_tooltip": null,
            "_model_module": "@jupyter-widgets/controls",
            "layout": "IPY_MODEL_ca278bb1092c4aefbaef09054d3b9ffa"
          }
        },
        "2593be0da5fc44cabedca133845b067d": {
          "model_module": "@jupyter-widgets/controls",
          "model_name": "HTMLModel",
          "model_module_version": "1.5.0",
          "state": {
            "_view_name": "HTMLView",
            "style": "IPY_MODEL_7164230b73f44cf082e48918c481d9ef",
            "_dom_classes": [],
            "description": "",
            "_model_name": "HTMLModel",
            "placeholder": "​",
            "_view_module": "@jupyter-widgets/controls",
            "_model_module_version": "1.5.0",
            "value": " 26.0/26.0 [00:00&lt;00:00, 217B/s]",
            "_view_count": null,
            "_view_module_version": "1.5.0",
            "description_tooltip": null,
            "_model_module": "@jupyter-widgets/controls",
            "layout": "IPY_MODEL_9e231c54978a460ab0b0871f9f22ecdc"
          }
        },
        "db9a915689bc4b2fad9552ff91604e4a": {
          "model_module": "@jupyter-widgets/controls",
          "model_name": "ProgressStyleModel",
          "model_module_version": "1.5.0",
          "state": {
            "_view_name": "StyleView",
            "_model_name": "ProgressStyleModel",
            "description_width": "initial",
            "_view_module": "@jupyter-widgets/base",
            "_model_module_version": "1.5.0",
            "_view_count": null,
            "_view_module_version": "1.2.0",
            "bar_color": null,
            "_model_module": "@jupyter-widgets/controls"
          }
        },
        "ca278bb1092c4aefbaef09054d3b9ffa": {
          "model_module": "@jupyter-widgets/base",
          "model_name": "LayoutModel",
          "model_module_version": "1.2.0",
          "state": {
            "_view_name": "LayoutView",
            "grid_template_rows": null,
            "right": null,
            "justify_content": null,
            "_view_module": "@jupyter-widgets/base",
            "overflow": null,
            "_model_module_version": "1.2.0",
            "_view_count": null,
            "flex_flow": null,
            "width": null,
            "min_width": null,
            "border": null,
            "align_items": null,
            "bottom": null,
            "_model_module": "@jupyter-widgets/base",
            "top": null,
            "grid_column": null,
            "overflow_y": null,
            "overflow_x": null,
            "grid_auto_flow": null,
            "grid_area": null,
            "grid_template_columns": null,
            "flex": null,
            "_model_name": "LayoutModel",
            "justify_items": null,
            "grid_row": null,
            "max_height": null,
            "align_content": null,
            "visibility": null,
            "align_self": null,
            "height": null,
            "min_height": null,
            "padding": null,
            "grid_auto_rows": null,
            "grid_gap": null,
            "max_width": null,
            "order": null,
            "_view_module_version": "1.2.0",
            "grid_template_areas": null,
            "object_position": null,
            "object_fit": null,
            "grid_auto_columns": null,
            "margin": null,
            "display": null,
            "left": null
          }
        },
        "7164230b73f44cf082e48918c481d9ef": {
          "model_module": "@jupyter-widgets/controls",
          "model_name": "DescriptionStyleModel",
          "model_module_version": "1.5.0",
          "state": {
            "_view_name": "StyleView",
            "_model_name": "DescriptionStyleModel",
            "description_width": "",
            "_view_module": "@jupyter-widgets/base",
            "_model_module_version": "1.5.0",
            "_view_count": null,
            "_view_module_version": "1.2.0",
            "_model_module": "@jupyter-widgets/controls"
          }
        },
        "9e231c54978a460ab0b0871f9f22ecdc": {
          "model_module": "@jupyter-widgets/base",
          "model_name": "LayoutModel",
          "model_module_version": "1.2.0",
          "state": {
            "_view_name": "LayoutView",
            "grid_template_rows": null,
            "right": null,
            "justify_content": null,
            "_view_module": "@jupyter-widgets/base",
            "overflow": null,
            "_model_module_version": "1.2.0",
            "_view_count": null,
            "flex_flow": null,
            "width": null,
            "min_width": null,
            "border": null,
            "align_items": null,
            "bottom": null,
            "_model_module": "@jupyter-widgets/base",
            "top": null,
            "grid_column": null,
            "overflow_y": null,
            "overflow_x": null,
            "grid_auto_flow": null,
            "grid_area": null,
            "grid_template_columns": null,
            "flex": null,
            "_model_name": "LayoutModel",
            "justify_items": null,
            "grid_row": null,
            "max_height": null,
            "align_content": null,
            "visibility": null,
            "align_self": null,
            "height": null,
            "min_height": null,
            "padding": null,
            "grid_auto_rows": null,
            "grid_gap": null,
            "max_width": null,
            "order": null,
            "_view_module_version": "1.2.0",
            "grid_template_areas": null,
            "object_position": null,
            "object_fit": null,
            "grid_auto_columns": null,
            "margin": null,
            "display": null,
            "left": null
          }
        }
      }
    }
  },
  "cells": [
    {
      "cell_type": "markdown",
      "metadata": {
        "id": "view-in-github",
        "colab_type": "text"
      },
      "source": [
        "<a href=\"https://colab.research.google.com/github/HarshitaViswanadham/YoutubeTranscriptSummarizer/blob/main/CODE.ipynb\" target=\"_parent\"><img src=\"https://colab.research.google.com/assets/colab-badge.svg\" alt=\"Open In Colab\"/></a>"
      ]
    },
    {
      "cell_type": "code",
      "metadata": {
        "colab": {
          "base_uri": "https://localhost:8080/"
        },
        "id": "6If4apKYl3H4",
        "outputId": "1397dd22-cc93-48b8-ab4e-9d2ff6b988c3"
      },
      "source": [
        "!pip install -q transformers"
      ],
      "execution_count": null,
      "outputs": [
        {
          "output_type": "stream",
          "text": [
            "\u001b[K     |████████████████████████████████| 2.5MB 3.9MB/s \n",
            "\u001b[K     |████████████████████████████████| 3.3MB 42.7MB/s \n",
            "\u001b[K     |████████████████████████████████| 901kB 40.6MB/s \n",
            "\u001b[?25h"
          ],
          "name": "stdout"
        }
      ]
    },
    {
      "cell_type": "code",
      "metadata": {
        "id": "eKEbgZmZmFMJ"
      },
      "source": [
        "!pip install -q youtube_transcript_api"
      ],
      "execution_count": null,
      "outputs": []
    },
    {
      "cell_type": "code",
      "metadata": {
        "colab": {
          "base_uri": "https://localhost:8080/"
        },
        "id": "ZhoQ9NkSmJDQ",
        "outputId": "19c50da2-4b20-4b04-d721-598ca3d7f036"
      },
      "source": [
        "!pip install summa"
      ],
      "execution_count": null,
      "outputs": [
        {
          "output_type": "stream",
          "text": [
            "Collecting summa\n",
            "\u001b[?25l  Downloading https://files.pythonhosted.org/packages/45/3b/1c7dc435d05aef474c4137328400f1e11787b9bffab1f87a3f160c1fef54/summa-1.2.0.tar.gz (54kB)\n",
            "\r\u001b[K     |██████                          | 10kB 13.7MB/s eta 0:00:01\r\u001b[K     |████████████                    | 20kB 7.6MB/s eta 0:00:01\r\u001b[K     |██████████████████              | 30kB 5.4MB/s eta 0:00:01\r\u001b[K     |███████████████████████▉        | 40kB 5.2MB/s eta 0:00:01\r\u001b[K     |█████████████████████████████▉  | 51kB 2.7MB/s eta 0:00:01\r\u001b[K     |████████████████████████████████| 61kB 2.4MB/s \n",
            "\u001b[?25hRequirement already satisfied: scipy>=0.19 in /usr/local/lib/python3.7/dist-packages (from summa) (1.4.1)\n",
            "Requirement already satisfied: numpy>=1.13.3 in /usr/local/lib/python3.7/dist-packages (from scipy>=0.19->summa) (1.19.5)\n",
            "Building wheels for collected packages: summa\n",
            "  Building wheel for summa (setup.py) ... \u001b[?25l\u001b[?25hdone\n",
            "  Created wheel for summa: filename=summa-1.2.0-cp37-none-any.whl size=54411 sha256=cac429f9ef2dcf1e6f94150ebfb7870bfab11aa2209e832b326955fcc4e97109\n",
            "  Stored in directory: /root/.cache/pip/wheels/6a/09/68/e2f2861c01d86407c3fa5220826ed7eed2abaa56b001be5970\n",
            "Successfully built summa\n",
            "Installing collected packages: summa\n",
            "Successfully installed summa-1.2.0\n"
          ],
          "name": "stdout"
        }
      ]
    },
    {
      "cell_type": "code",
      "metadata": {
        "id": "qLrNh1SSmMQz"
      },
      "source": [
        "from transformers import pipeline\n",
        "from youtube_transcript_api import YouTubeTranscriptApi"
      ],
      "execution_count": null,
      "outputs": []
    },
    {
      "cell_type": "code",
      "metadata": {
        "id": "0GaAtFCwmQo0"
      },
      "source": [
        "youtube_video = \"https://www.youtube.com/watch?v=aOL7wzEIZSc\""
      ],
      "execution_count": null,
      "outputs": []
    },
    {
      "cell_type": "code",
      "metadata": {
        "id": "SgbDpYyamVAZ"
      },
      "source": [
        "video_id = youtube_video.split(\"=\")[1]"
      ],
      "execution_count": null,
      "outputs": []
    },
    {
      "cell_type": "code",
      "metadata": {
        "colab": {
          "base_uri": "https://localhost:8080/",
          "height": 35
        },
        "id": "skhmRQ6xmYcL",
        "outputId": "e33949b9-735d-42b9-cd82-75e7bb5a60be"
      },
      "source": [
        "video_id"
      ],
      "execution_count": null,
      "outputs": [
        {
          "output_type": "execute_result",
          "data": {
            "application/vnd.google.colaboratory.intrinsic+json": {
              "type": "string"
            },
            "text/plain": [
              "'aOL7wzEIZSc'"
            ]
          },
          "metadata": {
            "tags": []
          },
          "execution_count": 8
        }
      ]
    },
    {
      "cell_type": "code",
      "metadata": {
        "colab": {
          "base_uri": "https://localhost:8080/",
          "height": 321
        },
        "id": "56Ex0QIvmbyd",
        "outputId": "e14c67c5-2f9c-49a7-a9f0-397e06a1b8bd"
      },
      "source": [
        "from IPython.display import YouTubeVideo\n",
        "YouTubeVideo(video_id)"
      ],
      "execution_count": null,
      "outputs": [
        {
          "output_type": "execute_result",
          "data": {
            "text/html": [
              "\n",
              "        <iframe\n",
              "            width=\"400\"\n",
              "            height=\"300\"\n",
              "            src=\"https://www.youtube.com/embed/aOL7wzEIZSc\"\n",
              "            frameborder=\"0\"\n",
              "            allowfullscreen\n",
              "        ></iframe>\n",
              "        "
            ],
            "text/plain": [
              "<IPython.lib.display.YouTubeVideo at 0x7fb87f743110>"
            ],
            "image/jpeg": "[encoded data removed]"
          },
          "metadata": {
            "tags": []
          },
          "execution_count": 9
        }
      ]
    },
    {
      "cell_type": "code",
      "metadata": {
        "id": "0QmSoKbCmf-P"
      },
      "source": [
        "YouTubeTranscriptApi.get_transcript(video_id)\n",
        "transcript = YouTubeTranscriptApi.get_transcript(video_id)"
      ],
      "execution_count": null,
      "outputs": []
    },
    {
      "cell_type": "code",
      "metadata": {
        "colab": {
          "base_uri": "https://localhost:8080/"
        },
        "id": "zytojj_pmkpg",
        "outputId": "2290688c-165e-4415-d7c3-410d8af92ea7"
      },
      "source": [
        "transcript[0:5]"
      ],
      "execution_count": null,
      "outputs": [
        {
          "output_type": "execute_result",
          "data": {
            "text/plain": [
              "[{'duration': 4.559, 'start': 1.87, 'text': '[Music]'},\n",
              " {'duration': 9.031,\n",
              "  'start': 13.769,\n",
              "  'text': 'tonight more than 200 years after a'},\n",
              " {'duration': 5.09,\n",
              "  'start': 19.77,\n",
              "  'text': 'former colony won the right to determine'},\n",
              " {'duration': 6.54, 'start': 22.8, 'text': 'its own destiny'},\n",
              " {'duration': 15.78,\n",
              "  'start': 24.86,\n",
              "  'text': 'the task of perfecting our union moves'}]"
            ]
          },
          "metadata": {
            "tags": []
          },
          "execution_count": 11
        }
      ]
    },
    {
      "cell_type": "code",
      "metadata": {
        "colab": {
          "base_uri": "https://localhost:8080/"
        },
        "id": "InAJk4m1moW1",
        "outputId": "6f0d46aa-31e2-4426-adfe-80565a09b2c7"
      },
      "source": [
        "result = \"\"\n",
        "for i in transcript:\n",
        "    result += ' ' + i['text']\n",
        "#print(result)\n",
        "print(len(result))"
      ],
      "execution_count": null,
      "outputs": [
        {
          "output_type": "stream",
          "text": [
            "11353\n"
          ],
          "name": "stdout"
        }
      ]
    },
    {
      "cell_type": "code",
      "metadata": {
        "colab": {
          "base_uri": "https://localhost:8080/",
          "height": 261,
          "referenced_widgets": [
            "c7a5dc4634544e309f06df1513d1e978",
            "996732783ee04c78a87195e8900f8d73",
            "9467d62381bc49a7b9bf746023d956a9",
            "05cd1baa04714591ab46e3de42724fa0",
            "f9f9bd8128d54617b4a01cafeffdfca3",
            "78c7a53577cb41daae658b8cdc41b5f3",
            "25991d1d5c8742e9bf74b35108c2cf84",
            "f1d079e03a934beb8296f61d09b4595d",
            "c4f46cedebf94a3aa50447c3cec05bda",
            "da589b77bbde44e4991b03c6b2888c9b",
            "3e2d00d82e3d469d84d67d48655dd5ef",
            "87223211e4d545b18a1500fa4d2d00d0",
            "4ac6a589812a4c3d9f406449090de6e8",
            "cc18e8697776466f80f32e8b165c34cd",
            "9751d86ea97e4ca98a4bdf7d7dbe7a44",
            "b7c1b8f59be84b2a85204d2d4b16397d",
            "1d7e39bb65e44156b4f55764af445e30",
            "ba323c1d6ff74c5eb6fcd4456e08c18e",
            "67908b1284c747abbbafa516aa6524a6",
            "bfc5b1d7d5a04aedb9e731357a1d9d2f",
            "5a65229859714d0eb28e07e25565c87e",
            "13446800d9ca4f579ea4f5439c55eee3",
            "97c1600a59bb4a78a1fa343adf506b2f",
            "15b85c90d7fd451ca6a802ddbc54d93f",
            "374098519edf49aeafffacf7218b1538",
            "10bf57cdf4444461b1587c07bb155b1c",
            "ac96a070e11d46d4bef691f58d07c6e2",
            "02059c8d57ac4379bff644be1c5a5b1f",
            "11002166cbdd46a38046af4d418c7429",
            "625688a954854d17b7f46c11ce2200db",
            "3202eb6537494e7bab54aa4b44bed35d",
            "6523be8aa61d4a73933b95ec27ac3ca6",
            "78781cc9f79e475cafb32411a9a303cb",
            "c179b09233ef41f89beae015442f91de",
            "32b34bd825d34d25b2bd6b82cd577818",
            "2593be0da5fc44cabedca133845b067d",
            "db9a915689bc4b2fad9552ff91604e4a",
            "ca278bb1092c4aefbaef09054d3b9ffa",
            "7164230b73f44cf082e48918c481d9ef",
            "9e231c54978a460ab0b0871f9f22ecdc"
          ]
        },
        "id": "z_JU8t81mr8b",
        "outputId": "c09092c5-0fa6-4a11-b3a4-6832c7d9638a"
      },
      "source": [
        "summarizer = pipeline('summarization')"
      ],
      "execution_count": null,
      "outputs": [
        {
          "output_type": "display_data",
          "data": {
            "application/vnd.jupyter.widget-view+json": {
              "model_id": "c7a5dc4634544e309f06df1513d1e978",
              "version_minor": 0,
              "version_major": 2
            },
            "text/plain": [
              "HBox(children=(FloatProgress(value=0.0, description='Downloading', max=1802.0, style=ProgressStyle(description…"
            ]
          },
          "metadata": {
            "tags": []
          }
        },
        {
          "output_type": "stream",
          "text": [
            "\n"
          ],
          "name": "stdout"
        },
        {
          "output_type": "display_data",
          "data": {
            "application/vnd.jupyter.widget-view+json": {
              "model_id": "c4f46cedebf94a3aa50447c3cec05bda",
              "version_minor": 0,
              "version_major": 2
            },
            "text/plain": [
              "HBox(children=(FloatProgress(value=0.0, description='Downloading', max=1222317369.0, style=ProgressStyle(descr…"
            ]
          },
          "metadata": {
            "tags": []
          }
        },
        {
          "output_type": "stream",
          "text": [
            "\n"
          ],
          "name": "stdout"
        },
        {
          "output_type": "display_data",
          "data": {
            "application/vnd.jupyter.widget-view+json": {
              "model_id": "1d7e39bb65e44156b4f55764af445e30",
              "version_minor": 0,
              "version_major": 2
            },
            "text/plain": [
              "HBox(children=(FloatProgress(value=0.0, description='Downloading', max=898822.0, style=ProgressStyle(descripti…"
            ]
          },
          "metadata": {
            "tags": []
          }
        },
        {
          "output_type": "stream",
          "text": [
            "\n"
          ],
          "name": "stdout"
        },
        {
          "output_type": "display_data",
          "data": {
            "application/vnd.jupyter.widget-view+json": {
              "model_id": "374098519edf49aeafffacf7218b1538",
              "version_minor": 0,
              "version_major": 2
            },
            "text/plain": [
              "HBox(children=(FloatProgress(value=0.0, description='Downloading', max=456318.0, style=ProgressStyle(descripti…"
            ]
          },
          "metadata": {
            "tags": []
          }
        },
        {
          "output_type": "stream",
          "text": [
            "\n"
          ],
          "name": "stdout"
        },
        {
          "output_type": "display_data",
          "data": {
            "application/vnd.jupyter.widget-view+json": {
              "model_id": "78781cc9f79e475cafb32411a9a303cb",
              "version_minor": 0,
              "version_major": 2
            },
            "text/plain": [
              "HBox(children=(FloatProgress(value=0.0, description='Downloading', max=26.0, style=ProgressStyle(description_w…"
            ]
          },
          "metadata": {
            "tags": []
          }
        },
        {
          "output_type": "stream",
          "text": [
            "\n"
          ],
          "name": "stdout"
        }
      ]
    },
    {
      "cell_type": "code",
      "metadata": {
        "colab": {
          "base_uri": "https://localhost:8080/"
        },
        "id": "veDpQft1m3IW",
        "outputId": "27d9a714-0fb7-41cc-e80f-081a29907879"
      },
      "source": [
        "num_iters = int(len(result)/1000)\n",
        "summarized_text = []\n",
        "for i in range(0, num_iters + 1):\n",
        "  start = 0\n",
        "  start = i * 1000\n",
        "  end = (i + 1) * 1000\n",
        "  out = summarizer(result[start:end], min_length, max_length)\n",
        "  out = out[0]\n",
        "  out = out['summary_text']\n",
        "  summarized_text.append(out)\n",
        "\n",
        "text1 = summarized_text\n",
        "\n",
        "print(summarized_text)"
      ],
      "execution_count": null,
      "outputs": [
        {
          "output_type": "stream",
          "text": [
            "/usr/local/lib/python3.7/dist-packages/torch/_tensor.py:575: UserWarning: floor_divide is deprecated, and will be removed in a future version of pytorch. It currently rounds toward 0 (like the 'trunc' function NOT 'floor'). This results in incorrect rounding for negative values.\n",
            "To keep the current behavior, use torch.div(a, b, rounding_mode='trunc'), or for actual floor division, use torch.div(a, b, rounding_mode='floor'). (Triggered internally at  /pytorch/aten/src/ATen/native/BinaryOps.cpp:467.)\n",
            "  return torch.floor_divide(self, other)\n",
            "Your max_length is set to 142, but you input_length is only 71. You might consider decreasing max_length manually, e.g. summarizer('...', max_length=50)\n"
          ],
          "name": "stderr"
        },
        {
          "output_type": "stream",
          "text": [
            "[' I want to thank every American who participated in this election whether you voted for the very first time or weighted it in wine for a very long time . We are an American family and we rise or fall together as one nation and as one people tonight . We know in our hearts but for the United States of America the best is yet to come .', ' President Obama congratulates Mitt Romney and Paul Ryan on a hard-fought campaign . Michelle Obama says she has never been prouder to Michelle Obama . Biden says he has never loved Michelle Obama more than he has loved her . Biden: \"I wouldn\\'t be the man I am today without the woman who agreed to marry me 20 years ago\"', \" The president says he is proud of his campaign team and volunteers in the history of politics the best the best ever . He says he will always be grateful for everything that you've done and all the incredible work that you put in . 'I know that political campaigns can sometimes seem small even silly and that provides plenty of fodder for the cynics who say they're just silly'\", \" L. ll us that politics nothing more than a contest of eagles or the domain of special interests but if you ever get the chance to talk to folks who turned out at our rally you'll hear the determination in the voice of a young field organizer who's working his way through college and wants to make sure every child has that same opportunity . The deep patriotism and the deep patriotism of a military spouse who's going door-to-door because her brother was finally hired when the local auto plant added another shift .\", \" Democracy in a nation of 300 million can be noisy and messy and complicated we have our own opinions each of us has deeply held beliefs . Despite all our differences most of us share certain hopes for America's future . We want our kids to grow up in a country where they have access to the best schools and the best teachers .\", \" We want to pass on a country that's safe and respected and admired around the world a nation that is defended by the strongest military on earth and the best troops this this world has ever known . We believe in a generous America in a compassionate America in compassionate America  in a tolerant America open to the dreams of an immigrants daughter who studies in our schools .\", ' President Barack Obama returns to the White House more determined and more inspired than ever about the work there is to do and the future of the blazing home tonight . Obama: \"I have listened to you I have learned from you and you\\'ve made me a better president and with your stories and your struggles I return to the . White House .', \" I'm looking forward to reaching out and working with leaders of both parties to meet the challenges we can only solve together reducing our deficit reforming our tax code reforming our immigration system and freeing ourselves from foreign oil . The role of citizen in our democracy does not end with your vote but that doesn't mean your work is done . America has never been about what can be done for us it's about what we can do by us together too .\", \" I've seen it in the family business whose owners would rather cut their own pay than lay out their neighbors . I've also seen it on the shores of New Jersey in New York where leaders from every party and level of government have swept aside their differences to help a community rebuild from the wreckage of a terrible storm .\", ' President Obama spoke to a crowd in Mentor Ohio where a father told the story of his eight-year-old daughter whose long battle with leukemia nearly cost their family everything . Obama said he has never been that more hopeful about America and he asks you to sustain that hope . Obama: \"I\\'m not talking about blind optimism the kind of hope that just ignores the enormity of t', \" I believe we can build on the progress we've made and continue to fight for new jobs and new opportunity and new security for the middle class . I have always believed that hope is that stubborn thing inside us that insists despite all the evidence to the contrary that something better awaits us .\", ' The U.S. is not as cynical as the pundits believe we are greater than the sum of our individual ambitions . We are and forever will be the United States of America and remind the world just why it is that we live in the greatest nation on earth Thank You America you .']\n"
          ],
          "name": "stdout"
        }
      ]
    },
    {
      "cell_type": "code",
      "metadata": {
        "colab": {
          "base_uri": "https://localhost:8080/"
        },
        "id": "y2-Z5ZCInXV9",
        "outputId": "dc926aad-ca5f-4bbe-bc81-825d4947a8cb"
      },
      "source": [
        "print(text1)"
      ],
      "execution_count": null,
      "outputs": [
        {
          "output_type": "stream",
          "text": [
            "[' I want to thank every American who participated in this election whether you voted for the very first time or weighted it in wine for a very long time . We are an American family and we rise or fall together as one nation and as one people tonight . We know in our hearts but for the United States of America the best is yet to come .', ' President Obama congratulates Mitt Romney and Paul Ryan on a hard-fought campaign . Michelle Obama says she has never been prouder to Michelle Obama . Biden says he has never loved Michelle Obama more than he has loved her . Biden: \"I wouldn\\'t be the man I am today without the woman who agreed to marry me 20 years ago\"', \" The president says he is proud of his campaign team and volunteers in the history of politics the best the best ever . He says he will always be grateful for everything that you've done and all the incredible work that you put in . 'I know that political campaigns can sometimes seem small even silly and that provides plenty of fodder for the cynics who say they're just silly'\", \" L. ll us that politics nothing more than a contest of eagles or the domain of special interests but if you ever get the chance to talk to folks who turned out at our rally you'll hear the determination in the voice of a young field organizer who's working his way through college and wants to make sure every child has that same opportunity . The deep patriotism and the deep patriotism of a military spouse who's going door-to-door because her brother was finally hired when the local auto plant added another shift .\", \" Democracy in a nation of 300 million can be noisy and messy and complicated we have our own opinions each of us has deeply held beliefs . Despite all our differences most of us share certain hopes for America's future . We want our kids to grow up in a country where they have access to the best schools and the best teachers .\", \" We want to pass on a country that's safe and respected and admired around the world a nation that is defended by the strongest military on earth and the best troops this this world has ever known . We believe in a generous America in a compassionate America in compassionate America  in a tolerant America open to the dreams of an immigrants daughter who studies in our schools .\", ' President Barack Obama returns to the White House more determined and more inspired than ever about the work there is to do and the future of the blazing home tonight . Obama: \"I have listened to you I have learned from you and you\\'ve made me a better president and with your stories and your struggles I return to the . White House .', \" I'm looking forward to reaching out and working with leaders of both parties to meet the challenges we can only solve together reducing our deficit reforming our tax code reforming our immigration system and freeing ourselves from foreign oil . The role of citizen in our democracy does not end with your vote but that doesn't mean your work is done . America has never been about what can be done for us it's about what we can do by us together too .\", \" I've seen it in the family business whose owners would rather cut their own pay than lay out their neighbors . I've also seen it on the shores of New Jersey in New York where leaders from every party and level of government have swept aside their differences to help a community rebuild from the wreckage of a terrible storm .\", ' President Obama spoke to a crowd in Mentor Ohio where a father told the story of his eight-year-old daughter whose long battle with leukemia nearly cost their family everything . Obama said he has never been that more hopeful about America and he asks you to sustain that hope . Obama: \"I\\'m not talking about blind optimism the kind of hope that just ignores the enormity of t', \" I believe we can build on the progress we've made and continue to fight for new jobs and new opportunity and new security for the middle class . I have always believed that hope is that stubborn thing inside us that insists despite all the evidence to the contrary that something better awaits us .\", ' The U.S. is not as cynical as the pundits believe we are greater than the sum of our individual ambitions . We are and forever will be the United States of America and remind the world just why it is that we live in the greatest nation on earth Thank You America you .']\n"
          ],
          "name": "stdout"
        }
      ]
    },
    {
      "cell_type": "code",
      "metadata": {
        "id": "64hfwRT8ndGn"
      },
      "source": [
        "from summa.summarizer import summarize"
      ],
      "execution_count": null,
      "outputs": []
    },
    {
      "cell_type": "code",
      "metadata": {
        "id": "WW1xSjkOnhPo"
      },
      "source": [
        "text = str(text1)"
      ],
      "execution_count": null,
      "outputs": []
    },
    {
      "cell_type": "code",
      "metadata": {
        "id": "y9JPxiyPniqD",
        "colab": {
          "base_uri": "https://localhost:8080/"
        },
        "outputId": "db09c0d8-9d22-4dc2-cecd-616545a5230d"
      },
      "source": [
        "print(text)"
      ],
      "execution_count": null,
      "outputs": [
        {
          "output_type": "stream",
          "text": [
            "[' I want to thank every American who participated in this election whether you voted for the very first time or weighted it in wine for a very long time . We are an American family and we rise or fall together as one nation and as one people tonight . We know in our hearts but for the United States of America the best is yet to come .', ' President Obama congratulates Mitt Romney and Paul Ryan on a hard-fought campaign . Michelle Obama says she has never been prouder to Michelle Obama . Biden says he has never loved Michelle Obama more than he has loved her . Biden: \"I wouldn\\'t be the man I am today without the woman who agreed to marry me 20 years ago\"', \" The president says he is proud of his campaign team and volunteers in the history of politics the best the best ever . He says he will always be grateful for everything that you've done and all the incredible work that you put in . 'I know that political campaigns can sometimes seem small even silly and that provides plenty of fodder for the cynics who say they're just silly'\", \" L. ll us that politics nothing more than a contest of eagles or the domain of special interests but if you ever get the chance to talk to folks who turned out at our rally you'll hear the determination in the voice of a young field organizer who's working his way through college and wants to make sure every child has that same opportunity . The deep patriotism and the deep patriotism of a military spouse who's going door-to-door because her brother was finally hired when the local auto plant added another shift .\", \" Democracy in a nation of 300 million can be noisy and messy and complicated we have our own opinions each of us has deeply held beliefs . Despite all our differences most of us share certain hopes for America's future . We want our kids to grow up in a country where they have access to the best schools and the best teachers .\", \" We want to pass on a country that's safe and respected and admired around the world a nation that is defended by the strongest military on earth and the best troops this this world has ever known . We believe in a generous America in a compassionate America in compassionate America  in a tolerant America open to the dreams of an immigrants daughter who studies in our schools .\", ' President Barack Obama returns to the White House more determined and more inspired than ever about the work there is to do and the future of the blazing home tonight . Obama: \"I have listened to you I have learned from you and you\\'ve made me a better president and with your stories and your struggles I return to the . White House .', \" I'm looking forward to reaching out and working with leaders of both parties to meet the challenges we can only solve together reducing our deficit reforming our tax code reforming our immigration system and freeing ourselves from foreign oil . The role of citizen in our democracy does not end with your vote but that doesn't mean your work is done . America has never been about what can be done for us it's about what we can do by us together too .\", \" I've seen it in the family business whose owners would rather cut their own pay than lay out their neighbors . I've also seen it on the shores of New Jersey in New York where leaders from every party and level of government have swept aside their differences to help a community rebuild from the wreckage of a terrible storm .\", ' President Obama spoke to a crowd in Mentor Ohio where a father told the story of his eight-year-old daughter whose long battle with leukemia nearly cost their family everything . Obama said he has never been that more hopeful about America and he asks you to sustain that hope . Obama: \"I\\'m not talking about blind optimism the kind of hope that just ignores the enormity of t', \" I believe we can build on the progress we've made and continue to fight for new jobs and new opportunity and new security for the middle class . I have always believed that hope is that stubborn thing inside us that insists despite all the evidence to the contrary that something better awaits us .\", ' The U.S. is not as cynical as the pundits believe we are greater than the sum of our individual ambitions . We are and forever will be the United States of America and remind the world just why it is that we live in the greatest nation on earth Thank You America you .']\n"
          ],
          "name": "stdout"
        }
      ]
    },
    {
      "cell_type": "code",
      "metadata": {
        "colab": {
          "base_uri": "https://localhost:8080/",
          "height": 120
        },
        "id": "KGaweTOennkW",
        "outputId": "362dfdd5-d8bd-47d4-984c-7f64e826a1e3"
      },
      "source": [
        "summarize(text, ratio = 0.5)"
      ],
      "execution_count": null,
      "outputs": [
        {
          "output_type": "execute_result",
          "data": {
            "application/vnd.google.colaboratory.intrinsic+json": {
              "type": "string"
            },
            "text/plain": [
              "'We know in our hearts but for the United States of America the best is yet to come .\\', \\' President Obama congratulates Mitt Romney and Paul Ryan on a hard-fought campaign .\\nMichelle Obama says she has never been prouder to Michelle Obama .\\nBiden says he has never loved Michelle Obama more than he has loved her .\\nBiden: \"I wouldn\\\\\\'t be the man I am today without the woman who agreed to marry me 20 years ago\"\\', \" The president says he is proud of his campaign team and volunteers in the history of politics the best the best ever .\\nHe says he will always be grateful for everything that you\\'ve done and all the incredible work that you put in .\\nWe believe in a generous America in a compassionate America in compassionate America  in a tolerant America open to the dreams of an immigrants daughter who studies in our schools .\", \\' President Barack Obama returns to the White House more determined and more inspired than ever about the work there is to do and the future of the blazing home tonight .\\nObama: \"I have listened to you I have learned from you and you\\\\\\'ve made me a better president and with your stories and your struggles I return to the .\\nI\\'ve also seen it on the shores of New Jersey in New York where leaders from every party and level of government have swept aside their differences to help a community rebuild from the wreckage of a terrible storm .\", \\' President Obama spoke to a crowd in Mentor Ohio where a father told the story of his eight-year-old daughter whose long battle with leukemia nearly cost their family everything .\\nObama said he has never been that more hopeful about America and he asks you to sustain that hope .\\nObama: \"I\\\\\\'m not talking about blind optimism the kind of hope that just ignores the enormity of t\\', \" I believe we can build on the progress we\\'ve made and continue to fight for new jobs and new opportunity and new security for the middle class .\\nWe are and forever will be the United States of America and remind the world just why it is that we live in the greatest nation on earth Thank You America you .\\']'"
            ]
          },
          "metadata": {
            "tags": []
          },
          "execution_count": 20
        }
      ]
    },
    {
      "cell_type": "code",
      "metadata": {
        "colab": {
          "base_uri": "https://localhost:8080/"
        },
        "id": "W9s7AohjnrY7",
        "outputId": "f475f884-f89f-4e8a-8527-414123acc6de"
      },
      "source": [
        "!pip install googletrans==3.1.0a0"
      ],
      "execution_count": null,
      "outputs": [
        {
          "output_type": "stream",
          "text": [
            "Collecting googletrans==3.1.0a0\n",
            "  Downloading https://files.pythonhosted.org/packages/19/3d/4e3a1609bf52f2f7b00436cc751eb977e27040665dde2bd57e7152989672/googletrans-3.1.0a0.tar.gz\n",
            "Collecting httpx==0.13.3\n",
            "\u001b[?25l  Downloading https://files.pythonhosted.org/packages/54/b4/698b284c6aed4d7c2b4fe3ba5df1fcf6093612423797e76fbb24890dd22f/httpx-0.13.3-py3-none-any.whl (55kB)\n",
            "\u001b[K     |████████████████████████████████| 61kB 2.4MB/s \n",
            "\u001b[?25hCollecting sniffio\n",
            "  Downloading https://files.pythonhosted.org/packages/52/b0/7b2e028b63d092804b6794595871f936aafa5e9322dcaaad50ebf67445b3/sniffio-1.2.0-py3-none-any.whl\n",
            "Requirement already satisfied: idna==2.* in /usr/local/lib/python3.7/dist-packages (from httpx==0.13.3->googletrans==3.1.0a0) (2.10)\n",
            "Collecting httpcore==0.9.*\n",
            "\u001b[?25l  Downloading https://files.pythonhosted.org/packages/dd/d5/e4ff9318693ac6101a2095e580908b591838c6f33df8d3ee8dd953ba96a8/httpcore-0.9.1-py3-none-any.whl (42kB)\n",
            "\u001b[K     |████████████████████████████████| 51kB 3.8MB/s \n",
            "\u001b[?25hRequirement already satisfied: certifi in /usr/local/lib/python3.7/dist-packages (from httpx==0.13.3->googletrans==3.1.0a0) (2021.5.30)\n",
            "Requirement already satisfied: chardet==3.* in /usr/local/lib/python3.7/dist-packages (from httpx==0.13.3->googletrans==3.1.0a0) (3.0.4)\n",
            "Collecting rfc3986<2,>=1.3\n",
            "  Downloading https://files.pythonhosted.org/packages/c4/e5/63ca2c4edf4e00657584608bee1001302bbf8c5f569340b78304f2f446cb/rfc3986-1.5.0-py2.py3-none-any.whl\n",
            "Collecting hstspreload\n",
            "\u001b[?25l  Downloading https://files.pythonhosted.org/packages/dd/50/606213e12fb49c5eb667df0936223dcaf461f94e215ea60244b2b1e9b039/hstspreload-2020.12.22-py3-none-any.whl (994kB)\n",
            "\u001b[K     |████████████████████████████████| 1.0MB 4.9MB/s \n",
            "\u001b[?25hCollecting h2==3.*\n",
            "\u001b[?25l  Downloading https://files.pythonhosted.org/packages/25/de/da019bcc539eeab02f6d45836f23858ac467f584bfec7a526ef200242afe/h2-3.2.0-py2.py3-none-any.whl (65kB)\n",
            "\u001b[K     |████████████████████████████████| 71kB 5.6MB/s \n",
            "\u001b[?25hCollecting h11<0.10,>=0.8\n",
            "\u001b[?25l  Downloading https://files.pythonhosted.org/packages/5a/fd/3dad730b0f95e78aeeb742f96fa7bbecbdd56a58e405d3da440d5bfb90c6/h11-0.9.0-py2.py3-none-any.whl (53kB)\n",
            "\u001b[K     |████████████████████████████████| 61kB 5.6MB/s \n",
            "\u001b[?25hCollecting hyperframe<6,>=5.2.0\n",
            "  Downloading https://files.pythonhosted.org/packages/19/0c/bf88182bcb5dce3094e2f3e4fe20db28a9928cb7bd5b08024030e4b140db/hyperframe-5.2.0-py2.py3-none-any.whl\n",
            "Collecting hpack<4,>=3.0\n",
            "  Downloading https://files.pythonhosted.org/packages/8a/cc/e53517f4a1e13f74776ca93271caef378dadec14d71c61c949d759d3db69/hpack-3.0.0-py2.py3-none-any.whl\n",
            "Building wheels for collected packages: googletrans\n",
            "  Building wheel for googletrans (setup.py) ... \u001b[?25l\u001b[?25hdone\n",
            "  Created wheel for googletrans: filename=googletrans-3.1.0a0-cp37-none-any.whl size=16368 sha256=191b0141eb14bcdd9442d669a8f7a36425e98be36795d5c2c1b2d6a49c449308\n",
            "  Stored in directory: /root/.cache/pip/wheels/27/7a/a0/aff3babbb775549ce6813cb8fa7ff3c0848c4dc62c20f8fdac\n",
            "Successfully built googletrans\n",
            "Installing collected packages: sniffio, hyperframe, hpack, h2, h11, httpcore, rfc3986, hstspreload, httpx, googletrans\n",
            "Successfully installed googletrans-3.1.0a0 h11-0.9.0 h2-3.2.0 hpack-3.0.0 hstspreload-2020.12.22 httpcore-0.9.1 httpx-0.13.3 hyperframe-5.2.0 rfc3986-1.5.0 sniffio-1.2.0\n"
          ],
          "name": "stdout"
        }
      ]
    },
    {
      "cell_type": "code",
      "metadata": {
        "colab": {
          "base_uri": "https://localhost:8080/"
        },
        "id": "OBkIFA4wn82V",
        "outputId": "1aab3710-eca9-4363-e21e-c13801f4aa1b"
      },
      "source": [
        "from googletrans import Translator\n",
        "translator = Translator()\n",
        "out = translator.translate(text, dest='hi')\n",
        "print(out)"
      ],
      "execution_count": null,
      "outputs": [
        {
          "output_type": "stream",
          "text": [
            "Translated(src=en, dest=hi, text=[' मैं इस चुनाव में भाग लेने वाले हर अमेरिकी को धन्यवाद देना चाहता हूं, चाहे आपने पहली बार मतदान किया हो या बहुत लंबे समय तक इसे शराब में तौला। हम एक अमेरिकी परिवार हैं और हम आज रात एक राष्ट्र और एक व्यक्ति के रूप में एक साथ उठते या गिरते हैं। हम अपने दिल में जानते हैं लेकिन संयुक्त राज्य अमेरिका के लिए सबसे अच्छा आना अभी बाकी है।', 'राष्ट्रपति ओबामा ने मिट रोमनी और पॉल रयान को एक कठिन अभियान पर बधाई दी। मिशेल ओबामा का कहना है कि उन्हें कभी भी मिशेल ओबामा पर गर्व नहीं रहा। बाइडेन का कहना है कि उन्होंने कभी भी मिशेल ओबामा से जितना प्यार किया है उससे ज्यादा प्यार कभी नहीं किया। बिडेन: \"मैं वह पुरुष नहीं होता जो आज मैं उस महिला के बिना हूं जो 20 साल पहले मुझसे शादी करने के लिए सहमत हुई थी\"', \"राष्ट्रपति कहते हैं कि उन्हें अपनी अभियान टीम और राजनीति के इतिहास में स्वयंसेवकों पर सबसे अच्छा सबसे अच्छा गर्व है कभी भी। वह कहता है कि वह हमेशा आपके द्वारा किए गए सभी अविश्वसनीय कार्यों और आपके द्वारा किए गए सभी अविश्वसनीय कार्यों के लिए आभारी रहेगा। 'मुझे पता है कि राजनीतिक अभियान कभी-कभी मूर्खतापूर्ण भी लग सकते हैं और यह उन सनकी लोगों के लिए बहुत चारा प्रदान करता है जो कहते हैं कि वे 'रे जस्ट सिली'\", \" एल. क्या हम राजनीति में चील की प्रतियोगिता या विशेष हितों के क्षेत्र से ज्यादा कुछ नहीं करेंगे, लेकिन अगर आपको कभी उन लोगों से बात करने का मौका मिलता है जो हमारी रैली में आए हैं तो आप दृढ़ संकल्प सुनेंगे एक युवा फील्ड आयोजक की आवाज में जो कॉलेज के माध्यम से अपने तरीके से काम कर रहा है और यह सुनिश्चित करना चाहता है कि हर बच्चे को एक ही अवसर मिले। एक सैन्य जीवनसाथी की गहरी देशभक्ति और गहरी देशभक्ति जो घर-घर जा रही है क्योंकि उसके भाई को आखिरकार काम पर रखा गया था जब स्थानीय ऑटो प्लांट ने एक और बदलाव जोड़ा ।\", \"३० करोड़ के राष्ट्र में लोकतंत्र शोरगुल वाला और गन्दा और जटिल हो सकता है, हमारे अपने विचार हैं हममें से प्रत्येक की गहरी मान्यताएँ हैं। हमारे तमाम मतभेदों के बावजूद हम में से अधिकांश अमेरिका के भविष्य के लिए कुछ उम्मीदें साझा करते हैं। हम चाहते हैं कि हमारे बच्चे ऐसे देश में पले-बढ़े जहां उनकी पहुंच सबसे अच्छे स्कूलों और बेहतरीन शिक्षकों तक हो।\", \"हम एक ऐसे देश से गुजरना चाहते हैं जो दुनिया भर में सुरक्षित और सम्मानित और प्रशंसित है, एक ऐसा देश जिसकी रक्षा सबसे मजबूत है। पृथ्वी पर सेना और इस दुनिया के अब तक के सबसे अच्छे सैनिक। हम एक उदार अमेरिका में एक दयालु अमेरिका में एक सहिष्णु अमेरिका में एक सहिष्णु अमेरिका में विश्वास करते हैं जो एक अप्रवासी बेटी के सपनों के लिए खुला है जो हमारे स्कूलों में पढ़ती है।\", 'राष्ट्रपति बराक ओबामा व्हाइट हाउस में पहले से कहीं अधिक दृढ़ और अधिक प्रेरित हैं। वहाँ काम करना है और आज रात धधकते घर का भविष्य। ओबामा: \"मैंने आपकी बात सुनी है मैंने आपसे सीखा है और आपने मुझे एक बेहतर राष्ट्रपति बनाया है और आपकी कहानियों और आपके संघर्षों के साथ मैं वापस लौटता हूं। व्हाइट हाउस।', \"मैं उन चुनौतियों का सामना करने के लिए दोनों पक्षों के नेताओं के साथ काम करने और काम करने की आशा कर रहा हूं, जिन्हें हम केवल एक साथ हल कर सकते हैं, हमारे घाटे को कम करने के लिए हमारे टैक्स कोड में सुधार हमारी आव्रजन प्रणाली में सुधार और खुद को विदेशी तेल से मुक्त करना। भूमिका हमारे लोकतंत्र में नागरिकों की संख्या आपके वोट से खत्म नहीं होती है लेकिन इसका मतलब यह नहीं है कि आपका काम हो गया है। अमेरिका कभी इस बारे में नहीं रहा कि हमारे लिए क्या किया जा सकता है, यह इस बारे में है कि हम एक साथ क्या कर सकते हैं। इसे पारिवारिक व्यवसाय में देखा, जिसके मालिक अपने पड़ोसियों को रखने के बजाय अपने स्वयं के वेतन में कटौती करेंगे। मैंने इसे न्यू यॉर्क में न्यू जर्सी के तट पर भी देखा है, जहाँ हर पार्टी और सरकार के स्तर के नेताओं ने अपने मतभेदों को दूर कर दिया है एक भयानक तूफान के मलबे से एक समुदाय के पुनर्निर्माण में मदद करें।\", 'राष्ट्रपति ओबामा ने मेंटर ओहियो में एक भीड़ से बात की, जहां एक पिता ने अपनी आठ साल की बेटी की कहानी सुनाई, जिसकी ल्यूकेमिया के साथ लंबी लड़ाई में उनके परिवार का लगभग सब कुछ खर्च हो गया। ओबामा ने कहा कि वह कभी भी अमेरिका को लेकर इतने अधिक आशावान नहीं रहे हैं और वह आपसे उस आशा को बनाए रखने के लिए कहते हैं। ओबामा: \"मैं अंध आशावाद के बारे में बात नहीं कर रहा हूँ, उस तरह की आशा जो सिर्फ टी की विशालता को नज़रअंदाज़ करती है,\" मेरा मानना ​​​​है कि हम अपनी प्रगति पर निर्माण कर सकते हैं और नई नौकरियों और नए अवसरों और नए के लिए लड़ना जारी रख सकते हैं। मध्यम वर्ग के लिए सुरक्षा। मेरा हमेशा से मानना ​​रहा है कि आशा हमारे अंदर की वह जिद्दी चीज है जो तमाम सबूतों के बावजूद इस बात पर जोर देती है कि कुछ बेहतर हमारा इंतजार कर रहा है।\", 'अमेरिका उतना निंदक नहीं है जितना कि पंडित मानते हैं कि हम अपनी व्यक्तिगत महत्वाकांक्षाओं के योग से बड़े हैं। हम संयुक्त राज्य अमेरिका हैं और हमेशा रहेंगे और दुनिया को याद दिलाएंगे कि ऐसा क्यों है कि हम पृथ्वी पर सबसे महान राष्ट्र में रहते हैं धन्यवाद अमेरिका।'], pronunciation=[[]], extra_data=\"{'translat...\")\n"
          ],
          "name": "stdout"
        }
      ]
    },
    {
      "cell_type": "code",
      "metadata": {
        "colab": {
          "base_uri": "https://localhost:8080/"
        },
        "id": "XE8el6ogpQ3H",
        "outputId": "e24abfc6-3303-4063-ea8c-92b19f8f68e7"
      },
      "source": [
        "from googletrans import Translator\n",
        "translator = Translator()\n",
        "out = translator.translate(text, dest='hi')\n",
        "print(out.text)"
      ],
      "execution_count": null,
      "outputs": [
        {
          "output_type": "stream",
          "text": [
            "[' मैं इस चुनाव में भाग लेने वाले हर अमेरिकी को धन्यवाद देना चाहता हूं, चाहे आपने पहली बार मतदान किया हो या बहुत लंबे समय तक इसे शराब में तौला। हम एक अमेरिकी परिवार हैं और हम आज रात एक राष्ट्र और एक व्यक्ति के रूप में एक साथ उठते या गिरते हैं। हम अपने दिल में जानते हैं लेकिन संयुक्त राज्य अमेरिका के लिए सबसे अच्छा आना अभी बाकी है।', 'राष्ट्रपति ओबामा ने मिट रोमनी और पॉल रयान को एक कठिन अभियान पर बधाई दी। मिशेल ओबामा का कहना है कि उन्हें कभी भी मिशेल ओबामा पर गर्व नहीं रहा। बाइडेन का कहना है कि उन्होंने कभी भी मिशेल ओबामा से जितना प्यार किया है उससे ज्यादा प्यार कभी नहीं किया। बिडेन: \"मैं वह पुरुष नहीं होता जो आज मैं उस महिला के बिना हूं जो 20 साल पहले मुझसे शादी करने के लिए सहमत हुई थी\"', \"राष्ट्रपति कहते हैं कि उन्हें अपनी अभियान टीम और राजनीति के इतिहास में स्वयंसेवकों पर सबसे अच्छा सबसे अच्छा गर्व है कभी भी। वह कहता है कि वह हमेशा आपके द्वारा किए गए सभी अविश्वसनीय कार्यों और आपके द्वारा किए गए सभी अविश्वसनीय कार्यों के लिए आभारी रहेगा। 'मुझे पता है कि राजनीतिक अभियान कभी-कभी मूर्खतापूर्ण भी लग सकते हैं और यह उन सनकी लोगों के लिए बहुत चारा प्रदान करता है जो कहते हैं कि वे 'रे जस्ट सिली'\", \" एल. क्या हम राजनीति में चील की प्रतियोगिता या विशेष हितों के क्षेत्र से ज्यादा कुछ नहीं करेंगे, लेकिन अगर आपको कभी उन लोगों से बात करने का मौका मिलता है जो हमारी रैली में आए हैं तो आप दृढ़ संकल्प सुनेंगे एक युवा फील्ड आयोजक की आवाज में जो कॉलेज के माध्यम से अपने तरीके से काम कर रहा है और यह सुनिश्चित करना चाहता है कि हर बच्चे को एक ही अवसर मिले। एक सैन्य जीवनसाथी की गहरी देशभक्ति और गहरी देशभक्ति जो घर-घर जा रही है क्योंकि उसके भाई को आखिरकार काम पर रखा गया था जब स्थानीय ऑटो प्लांट ने एक और बदलाव जोड़ा ।\", \"३० करोड़ के राष्ट्र में लोकतंत्र शोरगुल वाला और गन्दा और जटिल हो सकता है, हमारे अपने विचार हैं हममें से प्रत्येक की गहरी मान्यताएँ हैं। हमारे तमाम मतभेदों के बावजूद हम में से अधिकांश अमेरिका के भविष्य के लिए कुछ उम्मीदें साझा करते हैं। हम चाहते हैं कि हमारे बच्चे ऐसे देश में पले-बढ़े जहां उनकी पहुंच सबसे अच्छे स्कूलों और बेहतरीन शिक्षकों तक हो।\", \"हम एक ऐसे देश से गुजरना चाहते हैं जो दुनिया भर में सुरक्षित और सम्मानित और प्रशंसित है, एक ऐसा देश जिसकी रक्षा सबसे मजबूत है। पृथ्वी पर सेना और इस दुनिया के अब तक के सबसे अच्छे सैनिक। हम एक उदार अमेरिका में एक दयालु अमेरिका में एक सहिष्णु अमेरिका में एक सहिष्णु अमेरिका में विश्वास करते हैं जो एक अप्रवासी बेटी के सपनों के लिए खुला है जो हमारे स्कूलों में पढ़ती है।\", 'राष्ट्रपति बराक ओबामा व्हाइट हाउस में पहले से कहीं अधिक दृढ़ और अधिक प्रेरित हैं। वहाँ काम करना है और आज रात धधकते घर का भविष्य। ओबामा: \"मैंने आपकी बात सुनी है मैंने आपसे सीखा है और आपने मुझे एक बेहतर राष्ट्रपति बनाया है और आपकी कहानियों और आपके संघर्षों के साथ मैं वापस लौटता हूं। व्हाइट हाउस।', \"मैं उन चुनौतियों का सामना करने के लिए दोनों पक्षों के नेताओं के साथ काम करने और काम करने की आशा कर रहा हूं, जिन्हें हम केवल एक साथ हल कर सकते हैं, हमारे घाटे को कम करने के लिए हमारे टैक्स कोड में सुधार हमारी आव्रजन प्रणाली में सुधार और खुद को विदेशी तेल से मुक्त करना। भूमिका हमारे लोकतंत्र में नागरिकों की संख्या आपके वोट से खत्म नहीं होती है लेकिन इसका मतलब यह नहीं है कि आपका काम हो गया है। अमेरिका कभी इस बारे में नहीं रहा कि हमारे लिए क्या किया जा सकता है, यह इस बारे में है कि हम एक साथ क्या कर सकते हैं। इसे पारिवारिक व्यवसाय में देखा, जिसके मालिक अपने पड़ोसियों को रखने के बजाय अपने स्वयं के वेतन में कटौती करेंगे। मैंने इसे न्यू यॉर्क में न्यू जर्सी के तट पर भी देखा है, जहाँ हर पार्टी और सरकार के स्तर के नेताओं ने अपने मतभेदों को दूर कर दिया है एक भयानक तूफान के मलबे से एक समुदाय के पुनर्निर्माण में मदद करें।\", 'राष्ट्रपति ओबामा ने मेंटर ओहियो में एक भीड़ से बात की, जहां एक पिता ने अपनी आठ साल की बेटी की कहानी सुनाई, जिसकी ल्यूकेमिया के साथ लंबी लड़ाई में उनके परिवार का लगभग सब कुछ खर्च हो गया। ओबामा ने कहा कि वह कभी भी अमेरिका को लेकर इतने अधिक आशावान नहीं रहे हैं और वह आपसे उस आशा को बनाए रखने के लिए कहते हैं। ओबामा: \"मैं अंध आशावाद के बारे में बात नहीं कर रहा हूँ, उस तरह की आशा जो सिर्फ टी की विशालता को नज़रअंदाज़ करती है,\" मेरा मानना ​​​​है कि हम अपनी प्रगति पर निर्माण कर सकते हैं और नई नौकरियों और नए अवसरों और नए के लिए लड़ना जारी रख सकते हैं। मध्यम वर्ग के लिए सुरक्षा। मेरा हमेशा से मानना ​​रहा है कि आशा हमारे अंदर की वह जिद्दी चीज है जो तमाम सबूतों के बावजूद इस बात पर जोर देती है कि कुछ बेहतर हमारा इंतजार कर रहा है।\", 'अमेरिका उतना निंदक नहीं है जितना कि पंडित मानते हैं कि हम अपनी व्यक्तिगत महत्वाकांक्षाओं के योग से बड़े हैं। हम संयुक्त राज्य अमेरिका हैं और हमेशा रहेंगे और दुनिया को याद दिलाएंगे कि ऐसा क्यों है कि हम पृथ्वी पर सबसे महान राष्ट्र में रहते हैं धन्यवाद अमेरिका।']\n"
          ],
          "name": "stdout"
        }
      ]
    },
    {
      "cell_type": "code",
      "metadata": {
        "colab": {
          "base_uri": "https://localhost:8080/"
        },
        "id": "TN09tH2yqLiX",
        "outputId": "b5e4688e-2242-44a4-f906-82ef3c7f1031"
      },
      "source": [
        "from googletrans import Translator\n",
        "translator = Translator()\n",
        "out = translator.translate(text, dest='te')\n",
        "print(out.text)"
      ],
      "execution_count": null,
      "outputs": [
        {
          "output_type": "stream",
          "text": [
            "['ఈ ఎన్నికల్లో పాల్గొన్న ప్రతి అమెరికన్‌కు మీరు మొదటిసారి ఓటు వేసినా లేదా వైన్‌లో బరువు పెట్టినా చాలా కాలం పాటు కృతజ్ఞతలు తెలుపుతున్నాను. మేము ఒక అమెరికన్ కుటుంబం మరియు మేము ఒక దేశంగా మరియు ఈ రాత్రి ఒక ప్రజలుగా కలిసిపోతాము. మా హృదయాల్లో మాకు తెలుసు, కాని యునైటెడ్ స్టేట్స్ ఆఫ్ అమెరికాకు ఇంకా ఉత్తమమైనది రాదు. ',' అధ్యక్షుడు ఒబామా మిట్ రోమ్నీ మరియు పాల్ ర్యాన్‌లను గట్టిగా పోరాడినందుకు అభినందించారు. మిచెల్ ఒబామాతో తాను ఎప్పుడూ ప్రవర్తించలేదని మిచెల్ ఒబామా చెప్పారు. మిచెల్ ఒబామాను తాను ప్రేమించిన దానికంటే ఎక్కువగా ప్రేమించలేదని బిడెన్ చెప్పారు. బిడెన్: \"20 సంవత్సరాల క్రితం నన్ను వివాహం చేసుకోవడానికి అంగీకరించిన మహిళ లేకుండా నేను ఈ రోజు మనిషిని కాను\" \"అని అధ్యక్షుడు తన ప్రచార బృందం మరియు రాజకీయ చరిత్రలో వాలంటీర్లను గర్విస్తున్నానని చెప్పారు. ఎప్పుడైనా. మీరు చేసిన ప్రతిదానికీ మరియు మీరు పెట్టిన అన్ని అద్భుతమైన పనికి ఆయన ఎల్లప్పుడూ కృతజ్ఞతలు తెలుపుతారని ఆయన చెప్పారు. 'రాజకీయ ప్రచారాలు కొన్నిసార్లు చిన్నవిగా కూడా కనిపిస్తాయని నాకు తెలుసు మరియు అది వారు చెప్పే సైనీలకు పశుగ్రాసం పుష్కలంగా అందిస్తుంది రాజకీయాలు ఈగల్స్ పోటీ లేదా ప్రత్యేక ఆసక్తుల డొమైన్ తప్ప మరేమీ కాదు, కానీ మా ర్యాలీలో పాల్గొన్న వారితో మాట్లాడటానికి మీకు ఎప్పుడైనా అవకాశం లభిస్తే మీరు సంకల్పం వింటారు కళాశాలలో తన మార్గంలో పనిచేస్తున్న మరియు ప్రతి బిడ్డకు అదే అవకాశం ఉందని నిర్ధారించుకోవాలనుకునే ఒక యువ క్షేత్ర నిర్వాహకుడి గొంతులో. లోతైన దేశభక్తి మరియు ఒక సైనిక జీవిత భాగస్వామి యొక్క లోతైన దేశభక్తి, ఆమె సోదరుడు చివరకు అద్దెకు తీసుకున్నందున ఇంటింటికి వెళ్తున్నారు స్థానిక ఆటో ప్లాంట్ మరొక మార్పును జోడించినప్పుడు . \",\" 300 మిలియన్ల దేశంలో ప్రజాస్వామ్యం ధ్వనించే మరియు గజిబిజిగా మరియు సంక్లిష్టంగా ఉంటుంది, మనలో ప్రతి ఒక్కరికి మన స్వంత అభిప్రాయాలు ఉన్నాయి. మా అన్ని తేడాలు ఉన్నప్పటికీ, మనలో చాలామంది అమెరికా భవిష్యత్తు కోసం కొన్ని ఆశలను పంచుకుంటారు. మా పిల్లలు ఉత్తమ పాఠశాలలు మరియు ఉత్తమ ఉపాధ్యాయులకు ప్రాప్యత ఉన్న దేశంలో ఎదగాలని మేము కోరుకుంటున్నాము. \",\" ప్రపంచవ్యాప్తంగా సురక్షితమైన మరియు గౌరవనీయమైన మరియు ఆరాధించబడిన ఒక దేశానికి వెళ్ళాలని మేము కోరుకుంటున్నాము. భూమిపై సైనిక మరియు ఈ ప్రపంచం ఇప్పటివరకు తెలిసిన ఉత్తమ దళాలు. మా పాఠశాలల్లో చదువుకునే వలస కుమార్తె కలల కోసం తెరిచిన సహనంతో ఉన్న అమెరికాలో కారుణ్య అమెరికాలో కారుణ్య అమెరికాలో ఉదారమైన అమెరికాను మేము నమ్ముతున్నాము. \", 'అధ్యక్షుడు బరాక్ ఒబామా వైట్ హౌస్కు తిరిగి వస్తారు. అక్కడ చేయవలసిన పని మరియు ఈ రాత్రి మండుతున్న ఇంటి భవిష్యత్తు. ఒబామా: \"నేను మీ మాటలు విన్నాను, నేను మీ నుండి నేర్చుకున్నాను మరియు మీరు నన్ను మంచి అధ్యక్షునిగా చేసారు మరియు మీ కథలు మరియు మీ పోరాటాలతో నేను తిరిగి వస్తాను. వైట్ హౌస్. ', \"నేను సవాళ్లను ఎదుర్కోవటానికి ఇరు పార్టీల నాయకులతో కలిసి పనిచేయడానికి ఎదురుచూస్తున్నాను, మన లోటును తగ్గించి మా పన్ను కోడ్ను సంస్కరించడం మా ఇమ్మిగ్రేషన్ వ్యవస్థను సంస్కరించడం మరియు విదేశీ చమురు నుండి మనల్ని విడిపించుకోవడం. మా ప్రజాస్వామ్యంలో పౌరులు మీ ఓటుతో ముగుస్తుంది కాని మీ పని పూర్తయిందని దీని అర్థం కాదు. అమెరికా మన కోసం ఏమి చేయగలదో దాని గురించి మనం ఎప్పుడూ చేయలేదు, మనం కలిసి మనమేమి చేయగలం అనే దాని గురించి. \",\" నేను కుటుంబ వ్యాపారంలో దీనిని చూశాను, దీని యజమానులు తమ పొరుగువారిని వేయడం కంటే వారి స్వంత వేతనాన్ని తగ్గించుకుంటారు.నేను న్యూయార్క్‌లోని న్యూజెర్సీ తీరంలో కూడా చూశాను, ఇక్కడ ప్రతి పార్టీ మరియు ప్రభుత్వ స్థాయి నాయకులు తమ విభేదాలను పక్కన పెట్టారు ఒక భయంకరమైన తుఫాను శిధిలాల నుండి పునర్నిర్మించటానికి ఒక సమాజానికి సహాయం చెయ్యండి. ఒబామా తాను అమెరికా గురించి ఇంత ఆశాజనకంగా ఎప్పుడూ లేనని, ఆ ఆశను నిలబెట్టుకోమని అడుగుతున్నానని చెప్పాడు. ఒబామా: \"నేను గుడ్డి ఆశావాదం గురించి మాట్లాడటం లేదు, అది కేవలం అపారతను విస్మరిస్తుంది,\" మేము సాధించిన పురోగతిని మనం నిర్మించగలమని మరియు కొత్త ఉద్యోగాలు మరియు కొత్త అవకాశాలు మరియు క్రొత్త వాటి కోసం పోరాటం కొనసాగించగలమని నేను నమ్ముతున్నాను. మధ్యతరగతికి భద్రత. మనలో ఏదో ఒక మంచి ఎదురుచూస్తున్నామని దానికి విరుద్ధంగా అన్ని ఆధారాలు ఉన్నప్పటికీ పట్టుబట్టే ఆశ అనేది మనలోని మొండి పట్టుదలగలదని నేను ఎప్పుడూ నమ్ముతున్నాను. \" . మేము మరియు ఎప్పటికీ అమెరికా సంయుక్త రాష్ట్రాలు మరియు ప్రపంచ గుర్తు కేవలం ఎందుకు అది మేము భూమిపై గొప్ప దేశం లో నివసించే మీరు అమెరికా ధన్యవాదాలు ఉంటుంది. ']\n"
          ],
          "name": "stdout"
        }
      ]
    },
    {
      "cell_type": "code",
      "metadata": {
        "id": "-6D7huRJyylP",
        "colab": {
          "base_uri": "https://localhost:8080/"
        },
        "outputId": "b85ccb84-d204-4cca-d7c9-209df862a095"
      },
      "source": [
        "from googletrans import Translator\n",
        "translator = Translator()\n",
        "out = translator.translate(text, dest='ur')\n",
        "print(out.text)"
      ],
      "execution_count": null,
      "outputs": [
        {
          "output_type": "stream",
          "text": [
            "['میں ان امریکیوں کا شکریہ ادا کرنا چاہتا ہوں جنہوں نے اس انتخاب میں حصہ لیا چاہے آپ نے پہلی بار ووٹ دیا یا بہت لمبے عرصے تک شراب میں اس کا وزن کیا۔ ہم ایک امریکی کنبہ ہیں اور ہم آج رات ایک قوم اور ایک ہی فرد کی حیثیت سے ایک ساتھ اٹھ کھڑے ہوئے ہیں۔ ہم اپنے دلوں میں جانتے ہیں لیکن ریاستہائے متحدہ امریکہ کے لئے ابھی سب سے بہتر ابھی باقی ہے۔ '،' صدر اوباما نے مٹ رومنی اور پال ریان کو سخت جدوجہد مہم پر مبارکباد پیش کی۔ مشیل اوباما کا کہنا ہے کہ وہ مشیل اوباما سے کبھی بھی محتاج نہیں رہیں۔ بائیڈن کا کہنا ہے کہ انہوں نے مشیل اوباما سے جتنا محبت کی اس سے زیادہ پیار کبھی نہیں کیا۔ بائیڈن: \"میں آج کے دن میں اس مرد کے بغیر نہیں رہوں گا جس نے 20 سال قبل مجھ سے شادی کرنے پر راضی کیا تھا۔\" ، \"صدر کا کہنا ہے کہ انہیں اپنی انتخابی ٹیم پر فخر ہے اور سیاست کی تاریخ میں رضاکاروں کو سب سے بہتر ان کا کہنا ہے کہ وہ آپ کے کیے ہوئے سب کاموں اور ان تمام ناقابل یقین کاموں کے لئے ہمیشہ شکر گزار ہوں گے۔ 'میں جانتا ہوں کہ سیاسی مہمات بعض اوقات چھوٹی چھوٹی بھی لگ سکتی ہیں اور اس سے یہ کہتے ہیں کہ ان کا کہنا ہے کہ ان کا کہنا ہے کہ 'صرف محض بیوقوف' \"،\" ایل. ہمیں یہ بتائے گا کہ سیاست عقابوں کے مقابلہ یا خصوصی مفادات کے حصول کے علاوہ کچھ نہیں لیکن اگر آپ کو کبھی بھی موقع ملا کہ ہمارے جلسے میں نکلے ہوئے لوگوں سے بات کریں گے تو آپ عزم کو سنیں گے۔ ایک نوجوان فیلڈ آرگنائزر کی آواز میں جو کالج کے راستے اپنا کام کررہا ہے اور اس بات کو یقینی بنانا چاہتا ہے کہ ہر بچ sameے کو وہی موقع ملے ۔گہری حب الوطنی اور گہری حب الوطنی جو ایک فوجی شریک حیات کی طرف سے گھر گھر جا رہی ہے کیوں کہ آخر کار اس کے بھائی کی خدمات حاصل کی گئی تھی۔ جب مقامی آٹو پلانٹ نے ایک اور شفٹ کا اضافہ کیا . \"،\" 300 ملین کی قوم میں جمہوریت شور اور گندا اور پیچیدہ ہوسکتی ہے ہمارے پاس اپنی اپنی رائے ہے ہم میں سے ہر ایک نے گہرے عقائد رکھے ہیں۔ ہمارے تمام اختلافات کے باوجود ہم میں سے بیشتر امریکہ کے مستقبل کے لئے کچھ امیدیں وابستہ ہیں۔ ہم چاہتے ہیں کہ ہمارے بچے ایسے ملک میں پروان چڑھیں جہاں ان کی بہترین اسکولوں اور بہترین اساتذہ تک رسائی ہو۔ \"،\" ہم ایک ایسے ملک سے گزرنا چاہتے ہیں جو دنیا بھر میں محفوظ اور قابل احترام اور اس کی تعریف کی جائے۔ زمین پر فوج اور اس دنیا کو سب سے بہتر فوج۔ ہم ایک روادار امریکہ میں ہمدرد امریکہ میں ایک ہمدرد امریکہ میں ایک سخاوت مند امریکہ پر یقین رکھتے ہیں کہ ہمارے اسکولوں میں تعلیم حاصل کرنے والی تارکین وطن کی بیٹی کے خوابوں کا دروازہ کھلا ہے۔ \"، 'صدر باراک اوباما وائٹ ہاؤس میں واپس آئے اور پہلے سے کہیں زیادہ پرعزم اور متاثر ہوئے۔ آج کل کام کرنا ہے اور آتش گیر گھر کا مستقبل۔ اوباما: \"میں نے آپ کی بات سنی ہے میں نے آپ سے سیکھا ہے اور آپ نے مجھے ایک بہتر صدر بنایا ہے اور آپ کی کہانیوں اور آپ کی جدوجہد سے میں واپس آ گیا ہوں۔ وائٹ ہاوس۔ ہماری جمہوریت میں شہری آپ کے ووٹ سے ختم نہیں ہوتا ہے لیکن اس کا مطلب یہ نہیں ہے کہ آپ کا کام ہوچکا ہے۔ امریکہ کبھی نہیں رہا ہے کہ ہمارے لئے کیا کیا جاسکتا ہے یہ اس کے بارے میں ہے کہ ہم مل کر بھی ہمارے ذریعہ جو کام کرسکتے ہیں۔ \" اس کو خاندانی کاروبار میں دیکھا جس کے مالکان اپنے پڑوسیوں کو بچانے کے بجائے اپنی تنخواہ میں کٹوتی کریں گے۔میں نے اسے نیویارک کے نیو جرسی کے ساحل پر بھی دیکھا ہے جہاں ہر پارٹی اور حکومت کے درجے کے رہنماؤں نے اپنے اختلافات کو پس پشت ڈال دیا ہے۔ ایک معاشرے کو خوفناک طوفان کے تباہی سے دوبارہ تعمیر کرنے میں مدد کریں۔ \"، 'صدر اوباما نے مینٹور اوہائیو کے ایک ہجوم سے بات کی جہاں ایک باپ نے اپنی آٹھ سالہ بیٹی کی کہانی سنائی جس کی لیوکیمیا سے طویل لڑائی نے ان کے کنبہ کے لئے سب کچھ چکانا پڑا تھا۔ اوباما نے کہا کہ وہ امریکہ کے بارے میں اتنا زیادہ امید مند کبھی نہیں رہے ہیں اور وہ آپ سے اس امید کو برقرار رکھنے کے لئے کہتے ہیں۔ اوباما: \"میں اندھی امید کے بارے میں اس قسم کی امید کی بات نہیں کر رہا ہوں جو صرف ٹی کی فراوانی کو نظرانداز کرے ،\" مجھے یقین ہے کہ ہم اپنی ترقی کو ترقی دے سکتے ہیں اور نئی ملازمتوں اور نئے مواقع اور نئے کے لئے جدوجہد کرتے رہ سکتے ہیں۔ درمیانے طبقے کی حفاظت۔ میں نے ہمیشہ یقین کیا ہے کہ امید یہ ہے کہ ہمارے اندر یہ ضد کی چیز ہے جو تمام شواہد کے باوجود اس کے برعکس اصرار کرتی ہے کہ ہمارے لئے کچھ بہتر ہے۔ \"، 'پنڈتوں کا خیال ہے کہ ہم اپنے انفرادی عزائم کے جوہر سے بھی زیادہ بڑے ہیں ہم ہم ہیں اور ہمیشہ کے لئے ریاست ہائے متحدہ امریکہ ہوں گے اور دنیا کو صرف اس بات کی یاد دلائیں گے کہ ہم دنیا کی عظیم ترین قوم میں کیوں رہتے ہیں آپ کا شکریہ امریکہ۔ ']\n"
          ],
          "name": "stdout"
        }
      ]
    }
  ]
}